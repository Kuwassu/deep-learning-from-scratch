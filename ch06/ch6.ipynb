{
 "cells": [
  {
   "cell_type": "markdown",
   "metadata": {
    "vscode": {
     "languageId": "plaintext"
    }
   },
   "source": [
    "# 6章　学習に関するテクニック"
   ]
  },
  {
   "cell_type": "markdown",
   "metadata": {},
   "source": [
    "### 6.1.4 Momentum"
   ]
  },
  {
   "cell_type": "code",
   "execution_count": 2,
   "metadata": {},
   "outputs": [],
   "source": [
    "import numpy as np\n",
    "\n",
    "class Momentum:\n",
    "  def __init__(self, lr=0.01, momentum=0.9):\n",
    "    self.lr = lr\n",
    "    self.momentum = momentum\n",
    "    self.v = None\n",
    "\n",
    "  def update(self, params, grads):\n",
    "    if self.v is None:\n",
    "      self.v = {}\n",
    "      for key, val in params.items():\n",
    "        self.v[key] = np.zeros_like(val)\n",
    "\n",
    "    for key in params.keys():\n",
    "      self.v[key] = self.momentum*self.v[key] - self.lr*grads[key]\n",
    "      params[key] += self.v[key]"
   ]
  },
  {
   "cell_type": "code",
   "execution_count": 3,
   "metadata": {},
   "outputs": [],
   "source": [
    "class Dropout:\n",
    "  def __init__(self, dropout_ratio = 0.5):\n",
    "    self.dropout_ratio = dropout_ratio\n",
    "    self.mask = None\n",
    "\n",
    "  def forward(self, x, train_flg=True):\n",
    "    if train_flg:\n",
    "      self.mask = np.random.rand(*x.shape) > self.dropout_ratio\n",
    "      return x * self.mask\n",
    "    else:\n",
    "      return x * (1.0 - self.dropout_ratio)\n",
    "\n",
    "  def backward(self, dout):\n",
    "    return dout * self.mask"
   ]
  },
  {
   "cell_type": "code",
   "execution_count": 2,
   "metadata": {},
   "outputs": [
    {
     "data": {
      "text/plain": [
       "array([[ True,  True, False, False, False,  True,  True, False, False,\n",
       "        False],\n",
       "       [False, False,  True,  True,  True, False,  True, False, False,\n",
       "         True],\n",
       "       [ True, False,  True, False,  True, False, False,  True,  True,\n",
       "        False],\n",
       "       [ True, False,  True,  True,  True,  True,  True, False,  True,\n",
       "         True],\n",
       "       [False,  True, False, False,  True, False, False,  True,  True,\n",
       "         True],\n",
       "       [False,  True,  True, False,  True,  True,  True, False,  True,\n",
       "         True],\n",
       "       [ True,  True,  True,  True, False,  True, False,  True,  True,\n",
       "        False],\n",
       "       [False, False,  True, False,  True,  True, False, False,  True,\n",
       "         True],\n",
       "       [ True, False, False,  True,  True, False, False, False,  True,\n",
       "         True],\n",
       "       [ True, False,  True,  True,  True, False,  True, False, False,\n",
       "         True]])"
      ]
     },
     "execution_count": 2,
     "metadata": {},
     "output_type": "execute_result"
    }
   ],
   "source": [
    "import numpy as np\n",
    "x = np.random.rand(10, 10)\n",
    "np.random.rand(*x.shape) > .5"
   ]
  },
  {
   "cell_type": "markdown",
   "metadata": {},
   "source": [
    "# "
   ]
  }
 ],
 "metadata": {
  "kernelspec": {
   "display_name": "Python 3",
   "language": "python",
   "name": "python3"
  },
  "language_info": {
   "codemirror_mode": {
    "name": "ipython",
    "version": 3
   },
   "file_extension": ".py",
   "mimetype": "text/x-python",
   "name": "python",
   "nbconvert_exporter": "python",
   "pygments_lexer": "ipython3",
   "version": "3.11.5"
  }
 },
 "nbformat": 4,
 "nbformat_minor": 2
}
