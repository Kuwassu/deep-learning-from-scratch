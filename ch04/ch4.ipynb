{
 "cells": [
  {
   "cell_type": "markdown",
   "metadata": {},
   "source": [
    "# 4 章\n"
   ]
  },
  {
   "cell_type": "code",
   "execution_count": 2,
   "metadata": {},
   "outputs": [],
   "source": [
    "import numpy as np"
   ]
  },
  {
   "cell_type": "code",
   "execution_count": 3,
   "metadata": {},
   "outputs": [],
   "source": [
    "def sum_suqared_error(y, t):\n",
    "  return 0.5 * np.sum((y - t)**2)"
   ]
  },
  {
   "cell_type": "code",
   "execution_count": 28,
   "metadata": {},
   "outputs": [
    {
     "name": "stdout",
     "output_type": "stream",
     "text": [
      "0.16000000000000003\n"
     ]
    }
   ],
   "source": [
    "print(0.4**2)"
   ]
  },
  {
   "cell_type": "code",
   "execution_count": 29,
   "metadata": {},
   "outputs": [
    {
     "name": "stdout",
     "output_type": "stream",
     "text": [
      "0.09750000000000003\n",
      "0.5975\n"
     ]
    }
   ],
   "source": [
    "t = [0, 0, 1, 0, 0, 0, 0, 0, 0, 0]\n",
    "y = [0.1, 0.05, 0.6, 0.0, 0.05, 0.1, 0.0, 0.1, 0.0, 0.0]\n",
    "print(sum_suqared_error(np.array(y), np.array(t)))\n",
    "\n",
    "y = [0.1, 0.05, 0.1, 0.0, 0.05, 0.1, 0.0, 0.6, 0.0, 0.0]\n",
    "print(sum_suqared_error(np.array(y), np.array(t)))"
   ]
  },
  {
   "cell_type": "markdown",
   "metadata": {},
   "source": [
    "# 4.2.2\n"
   ]
  },
  {
   "cell_type": "code",
   "execution_count": 5,
   "metadata": {},
   "outputs": [],
   "source": [
    "def cross_entropy_error(y, t):\n",
    "  delta = 1e-7\n",
    "  return -np.sum(t * np.log(y + delta))"
   ]
  },
  {
   "cell_type": "code",
   "execution_count": 6,
   "metadata": {},
   "outputs": [
    {
     "data": {
      "text/plain": [
       "0.510825457099338"
      ]
     },
     "execution_count": 6,
     "metadata": {},
     "output_type": "execute_result"
    }
   ],
   "source": [
    "t = [0, 0, 1, 0, 0, 0, 0, 0, 0, 0]\n",
    "y = [0.1, 0.05, 0.6, 0.0, 0.05, 0.1, 0.0, 0.1, 0.0, 0.0]\n",
    "cross_entropy_error(np.array(y), np.array(t))"
   ]
  },
  {
   "cell_type": "code",
   "execution_count": 7,
   "metadata": {},
   "outputs": [
    {
     "data": {
      "text/plain": [
       "2.302584092994546"
      ]
     },
     "execution_count": 7,
     "metadata": {},
     "output_type": "execute_result"
    }
   ],
   "source": [
    "y = [0.1, 0.05, 0.1, 0.0, 0.05, 0.1, 0.0, 0.6, 0.0, 0.0]\n",
    "cross_entropy_error(np.array(y), np.array(t))"
   ]
  },
  {
   "cell_type": "markdown",
   "metadata": {},
   "source": [
    "## 4.2.3"
   ]
  },
  {
   "cell_type": "code",
   "execution_count": 8,
   "metadata": {},
   "outputs": [
    {
     "name": "stdout",
     "output_type": "stream",
     "text": [
      "(60000, 784)\n",
      "(60000, 10)\n"
     ]
    }
   ],
   "source": [
    "import sys, os\n",
    "sys.path.append(os.pardir)\n",
    "import numpy as np\n",
    "from dataset.mnist import load_mnist\n",
    "\n",
    "(x_train, t_train), (x_test, t_test) = load_mnist(normalize=True, one_hot_label=True)\n",
    "\n",
    "print(x_train.shape)\n",
    "print(t_train.shape)"
   ]
  },
  {
   "cell_type": "code",
   "execution_count": 9,
   "metadata": {},
   "outputs": [
    {
     "name": "stdout",
     "output_type": "stream",
     "text": [
      "60000\n",
      "[21133  1835 53148  1032 46931  7806 21390 53179 21664  8764]\n"
     ]
    }
   ],
   "source": [
    "train_size = x_train.shape[0]\n",
    "print(train_size)\n",
    "batch_size = 10\n",
    "batch_mask = np.random.choice(train_size, batch_size)\n",
    "print(batch_mask)\n",
    "x_batch = x_train[batch_mask]\n",
    "t_batch = t_train[batch_mask]"
   ]
  },
  {
   "cell_type": "code",
   "execution_count": 39,
   "metadata": {},
   "outputs": [
    {
     "data": {
      "text/plain": [
       "(10, 784)"
      ]
     },
     "execution_count": 39,
     "metadata": {},
     "output_type": "execute_result"
    }
   ],
   "source": [
    "x_batch.shape"
   ]
  },
  {
   "cell_type": "markdown",
   "metadata": {},
   "source": [
    "### 4.2.4"
   ]
  },
  {
   "cell_type": "code",
   "execution_count": 40,
   "metadata": {},
   "outputs": [],
   "source": [
    "def cross_entropy_error(y, t):\n",
    "  if y.ndim == 1:\n",
    "    t = t.reshape(1, t.size)\n",
    "    y = y.reshape(1, y.size)\n",
    "\n",
    "  batch_size = y.shape[0]\n",
    "  print(y[np.arange(batch_size), t])\n",
    "  return -np.sum(np.log(y[np.arange(batch_size), t] + 1e-7)) / batch_size"
   ]
  },
  {
   "cell_type": "markdown",
   "metadata": {},
   "source": [
    "p.95 理解"
   ]
  },
  {
   "cell_type": "markdown",
   "metadata": {},
   "source": [
    "## 4.3"
   ]
  },
  {
   "cell_type": "markdown",
   "metadata": {},
   "source": [
    "### 4.3.1"
   ]
  },
  {
   "cell_type": "code",
   "execution_count": 43,
   "metadata": {},
   "outputs": [],
   "source": [
    "def numerical_diff(f, x):\n",
    "  h = 1e-4\n",
    "  return (f(x+h) - f(x-h)) / (2*h)"
   ]
  },
  {
   "cell_type": "markdown",
   "metadata": {},
   "source": [
    "### 4.3.2"
   ]
  },
  {
   "cell_type": "code",
   "execution_count": 44,
   "metadata": {},
   "outputs": [],
   "source": [
    "def function_1(x):\n",
    "  return 0.01*x**2 + 0.1*x"
   ]
  },
  {
   "cell_type": "code",
   "execution_count": 45,
   "metadata": {},
   "outputs": [
    {
     "data": {
      "image/png": "[encoded data removed]",
      "text/plain": [
       "<Figure size 640x480 with 1 Axes>"
      ]
     },
     "metadata": {},
     "output_type": "display_data"
    }
   ],
   "source": [
    "import numpy as np\n",
    "import matplotlib.pylab as plt\n",
    "\n",
    "x = np.arange(0.0, 20.0, 0.1)\n",
    "y = function_1(x)\n",
    "plt.xlabel(\"x\")\n",
    "plt.ylabel(\"f(x)\")\n",
    "plt.plot(x, y)\n",
    "plt.show()"
   ]
  },
  {
   "cell_type": "code",
   "execution_count": 46,
   "metadata": {},
   "outputs": [
    {
     "name": "stdout",
     "output_type": "stream",
     "text": [
      "0.1999999999990898\n",
      "0.2999999999986347\n"
     ]
    }
   ],
   "source": [
    "print(numerical_diff(function_1, 5))\n",
    "print(numerical_diff(function_1, 10))"
   ]
  },
  {
   "cell_type": "markdown",
   "metadata": {},
   "source": [
    "### 4.3.3"
   ]
  },
  {
   "cell_type": "code",
   "execution_count": 48,
   "metadata": {},
   "outputs": [],
   "source": [
    "def function_2(x):\n",
    "  return x[0]**2 + x[1]**2 # np.sum(x**2)"
   ]
  },
  {
   "cell_type": "code",
   "execution_count": 47,
   "metadata": {},
   "outputs": [
    {
     "data": {
      "text/plain": [
       "6.00000000000378"
      ]
     },
     "execution_count": 47,
     "metadata": {},
     "output_type": "execute_result"
    }
   ],
   "source": [
    "def function_tmp1(x0):\n",
    "  return x0*x0 + 4.0**2.0\n",
    "\n",
    "numerical_diff(function_tmp1, 3.0)"
   ]
  },
  {
   "cell_type": "code",
   "execution_count": 17,
   "metadata": {},
   "outputs": [
    {
     "data": {
      "text/plain": [
       "7.999999999999119"
      ]
     },
     "execution_count": 17,
     "metadata": {},
     "output_type": "execute_result"
    }
   ],
   "source": [
    "def function_tmp2(x1):\n",
    "  return 3.0**2.0 + x1*x1\n",
    "\n",
    "numerical_diff(function_tmp2, 4.0)"
   ]
  },
  {
   "cell_type": "markdown",
   "metadata": {},
   "source": [
    "## 4.4"
   ]
  },
  {
   "cell_type": "code",
   "execution_count": 81,
   "metadata": {},
   "outputs": [],
   "source": [
    "def numerical_gradient(f, x):\n",
    "  \"\"\"\n",
    "  f: function\n",
    "  x: np.array\n",
    "  \"\"\"\n",
    "  # print(f\"x: {x}\")\n",
    "  h = 1e-4\n",
    "  grad = np.zeros_like(x)\n",
    "\n",
    "  for idx in range(x.size):\n",
    "    tmp_val = x[idx]\n",
    "    x[idx] = tmp_val + h\n",
    "    fxh1 = f(x)\n",
    "    # print(f\"x: {x}\")\n",
    "    # print(f\"f(x+h): {f(x)}\")\n",
    "\n",
    "    x[idx] = tmp_val - h\n",
    "    fxh2 = f(x)\n",
    "    # print(f\"x: {x}\")\n",
    "    # print(f\"f(x-h): {f(x)}\")\n",
    "\n",
    "    grad[idx] = (fxh1 - fxh2) / (2*h)\n",
    "    # print(f\"grad: {grad}\\n\")\n",
    "    x[idx] = tmp_val\n",
    "\n",
    "  return grad"
   ]
  },
  {
   "cell_type": "code",
   "execution_count": 82,
   "metadata": {},
   "outputs": [
    {
     "data": {
      "text/plain": [
       "array([6., 8.])"
      ]
     },
     "execution_count": 82,
     "metadata": {},
     "output_type": "execute_result"
    }
   ],
   "source": [
    "numerical_gradient(function_2, np.array([3.0, 4.0]))"
   ]
  },
  {
   "cell_type": "markdown",
   "metadata": {},
   "source": [
    "### 4.4.1"
   ]
  },
  {
   "cell_type": "code",
   "execution_count": 92,
   "metadata": {},
   "outputs": [],
   "source": [
    "def gradient_descent(f, init_x, lr=0.01, step_num=100):\n",
    "  x = init_x\n",
    "\n",
    "  for i in range(step_num):\n",
    "    print(f\"{i}回目のx: {x}\", end=\" \")\n",
    "    grad = numerical_gradient(f, x)\n",
    "    print(f\"grad: {grad}\",end=\" \")\n",
    "    x -= lr * grad\n",
    "    print(f\"x: {x}\")\n",
    "\n",
    "  return x"
   ]
  },
  {
   "cell_type": "code",
   "execution_count": 93,
   "metadata": {},
   "outputs": [
    {
     "name": "stdout",
     "output_type": "stream",
     "text": [
      "0回目のx: [-3.  4.] grad: [-6.  8.] x: [-2.4  3.2]\n",
      "1回目のx: [-2.4  3.2] grad: [-4.8  6.4] x: [-1.92  2.56]\n",
      "2回目のx: [-1.92  2.56] grad: [-3.84  5.12] x: [-1.536  2.048]\n",
      "3回目のx: [-1.536  2.048] grad: [-3.072  4.096] x: [-1.2288  1.6384]\n",
      "4回目のx: [-1.2288  1.6384] grad: [-2.4576  3.2768] x: [-0.98304  1.31072]\n",
      "5回目のx: [-0.98304  1.31072] grad: [-1.96608  2.62144] x: [-0.786432  1.048576]\n",
      "6回目のx: [-0.786432  1.048576] grad: [-1.572864  2.097152] x: [-0.6291456  0.8388608]\n",
      "7回目のx: [-0.6291456  0.8388608] grad: [-1.2582912  1.6777216] x: [-0.50331648  0.67108864]\n",
      "8回目のx: [-0.50331648  0.67108864] grad: [-1.00663296  1.34217728] x: [-0.40265318  0.53687091]\n",
      "9回目のx: [-0.40265318  0.53687091] grad: [-0.80530637  1.07374182] x: [-0.32212255  0.42949673]\n",
      "10回目のx: [-0.32212255  0.42949673] grad: [-0.64424509  0.85899346] x: [-0.25769804  0.34359738]\n",
      "11回目のx: [-0.25769804  0.34359738] grad: [-0.51539608  0.68719477] x: [-0.20615843  0.27487791]\n",
      "12回目のx: [-0.20615843  0.27487791] grad: [-0.41231686  0.54975581] x: [-0.16492674  0.21990233]\n",
      "13回目のx: [-0.16492674  0.21990233] grad: [-0.32985349  0.43980465] x: [-0.1319414   0.17592186]\n",
      "14回目のx: [-0.1319414   0.17592186] grad: [-0.26388279  0.35184372] x: [-0.10555312  0.14073749]\n",
      "15回目のx: [-0.10555312  0.14073749] grad: [-0.21110623  0.28147498] x: [-0.08444249  0.11258999]\n",
      "16回目のx: [-0.08444249  0.11258999] grad: [-0.16888499  0.22517998] x: [-0.06755399  0.09007199]\n",
      "17回目のx: [-0.06755399  0.09007199] grad: [-0.13510799  0.18014399] x: [-0.0540432   0.07205759]\n",
      "18回目のx: [-0.0540432   0.07205759] grad: [-0.10808639  0.14411519] x: [-0.04323456  0.05764608]\n",
      "19回目のx: [-0.04323456  0.05764608] grad: [-0.08646911  0.11529215] x: [-0.03458765  0.04611686]\n",
      "20回目のx: [-0.03458765  0.04611686] grad: [-0.06917529  0.09223372] x: [-0.02767012  0.03689349]\n",
      "21回目のx: [-0.02767012  0.03689349] grad: [-0.05534023  0.07378698] x: [-0.02213609  0.02951479]\n",
      "22回目のx: [-0.02213609  0.02951479] grad: [-0.04427219  0.05902958] x: [-0.01770887  0.02361183]\n",
      "23回目のx: [-0.01770887  0.02361183] grad: [-0.03541775  0.04722366] x: [-0.0141671   0.01888947]\n",
      "24回目のx: [-0.0141671   0.01888947] grad: [-0.0283342   0.03777893] x: [-0.01133368  0.01511157]\n",
      "25回目のx: [-0.01133368  0.01511157] grad: [-0.02266736  0.03022315] x: [-0.00906694  0.01208926]\n",
      "26回目のx: [-0.00906694  0.01208926] grad: [-0.01813389  0.02417852] x: [-0.00725355  0.00967141]\n",
      "27回目のx: [-0.00725355  0.00967141] grad: [-0.01450711  0.01934281] x: [-0.00580284  0.00773713]\n",
      "28回目のx: [-0.00580284  0.00773713] grad: [-0.01160569  0.01547425] x: [-0.00464228  0.0061897 ]\n",
      "29回目のx: [-0.00464228  0.0061897 ] grad: [-0.00928455  0.0123794 ] x: [-0.00371382  0.00495176]\n",
      "30回目のx: [-0.00371382  0.00495176] grad: [-0.00742764  0.00990352] x: [-0.00297106  0.00396141]\n",
      "31回目のx: [-0.00297106  0.00396141] grad: [-0.00594211  0.00792282] x: [-0.00237684  0.00316913]\n",
      "32回目のx: [-0.00237684  0.00316913] grad: [-0.00475369  0.00633825] x: [-0.00190148  0.0025353 ]\n",
      "33回目のx: [-0.00190148  0.0025353 ] grad: [-0.00380295  0.0050706 ] x: [-0.00152118  0.00202824]\n",
      "34回目のx: [-0.00152118  0.00202824] grad: [-0.00304236  0.00405648] x: [-0.00121694  0.00162259]\n",
      "35回目のx: [-0.00121694  0.00162259] grad: [-0.00243389  0.00324519] x: [-0.00097356  0.00129807]\n",
      "36回目のx: [-0.00097356  0.00129807] grad: [-0.00194711  0.00259615] x: [-0.00077884  0.00103846]\n",
      "37回目のx: [-0.00077884  0.00103846] grad: [-0.00155769  0.00207692] x: [-0.00062308  0.00083077]\n",
      "38回目のx: [-0.00062308  0.00083077] grad: [-0.00124615  0.00166153] x: [-0.00049846  0.00066461]\n",
      "39回目のx: [-0.00049846  0.00066461] grad: [-0.00099692  0.00132923] x: [-0.00039877  0.00053169]\n",
      "40回目のx: [-0.00039877  0.00053169] grad: [-0.00079754  0.00106338] x: [-0.00031901  0.00042535]\n",
      "41回目のx: [-0.00031901  0.00042535] grad: [-0.00063803  0.00085071] x: [-0.00025521  0.00034028]\n",
      "42回目のx: [-0.00025521  0.00034028] grad: [-0.00051042  0.00068056] x: [-0.00020417  0.00027223]\n",
      "43回目のx: [-0.00020417  0.00027223] grad: [-0.00040834  0.00054445] x: [-0.00016334  0.00021778]\n",
      "44回目のx: [-0.00016334  0.00021778] grad: [-0.00032667  0.00043556] x: [-0.00013067  0.00017422]\n",
      "45回目のx: [-0.00013067  0.00017422] grad: [-0.00026134  0.00034845] x: [-0.00010453  0.00013938]\n",
      "46回目のx: [-0.00010453  0.00013938] grad: [-0.00020907  0.00027876] x: [-8.36277945e-05  1.11503726e-04]\n",
      "47回目のx: [-8.36277945e-05  1.11503726e-04] grad: [-0.00016726  0.00022301] x: [-6.69022356e-05  8.92029808e-05]\n",
      "48回目のx: [-6.69022356e-05  8.92029808e-05] grad: [-0.0001338   0.00017841] x: [-5.35217885e-05  7.13623846e-05]\n",
      "49回目のx: [-5.35217885e-05  7.13623846e-05] grad: [-0.00010704  0.00014272] x: [-4.28174308e-05  5.70899077e-05]\n",
      "50回目のx: [-4.28174308e-05  5.70899077e-05] grad: [-8.56348616e-05  1.14179815e-04] x: [-3.42539446e-05  4.56719262e-05]\n",
      "51回目のx: [-3.42539446e-05  4.56719262e-05] grad: [-6.85078892e-05  9.13438523e-05] x: [-2.74031557e-05  3.65375409e-05]\n",
      "52回目のx: [-2.74031557e-05  3.65375409e-05] grad: [-5.48063114e-05  7.30750819e-05] x: [-2.19225246e-05  2.92300327e-05]\n",
      "53回目のx: [-2.19225246e-05  2.92300327e-05] grad: [-4.38450491e-05  5.84600655e-05] x: [-1.75380196e-05  2.33840262e-05]\n",
      "54回目のx: [-1.75380196e-05  2.33840262e-05] grad: [-3.50760393e-05  4.67680524e-05] x: [-1.40304157e-05  1.87072210e-05]\n",
      "55回目のx: [-1.40304157e-05  1.87072210e-05] grad: [-2.80608314e-05  3.74144419e-05] x: [-1.12243326e-05  1.49657768e-05]\n",
      "56回目のx: [-1.12243326e-05  1.49657768e-05] grad: [-2.24486651e-05  2.99315535e-05] x: [-8.97946606e-06  1.19726214e-05]\n",
      "57回目のx: [-8.97946606e-06  1.19726214e-05] grad: [-1.79589321e-05  2.39452428e-05] x: [-7.18357285e-06  9.57809713e-06]\n",
      "58回目のx: [-7.18357285e-06  9.57809713e-06] grad: [-1.43671457e-05  1.91561943e-05] x: [-5.74685828e-06  7.66247770e-06]\n",
      "59回目のx: [-5.74685828e-06  7.66247770e-06] grad: [-1.14937166e-05  1.53249554e-05] x: [-4.59748662e-06  6.12998216e-06]\n",
      "60回目のx: [-4.59748662e-06  6.12998216e-06] grad: [-9.19497325e-06  1.22599643e-05] x: [-3.67798930e-06  4.90398573e-06]\n",
      "61回目のx: [-3.67798930e-06  4.90398573e-06] grad: [-7.35597860e-06  9.80797146e-06] x: [-2.94239144e-06  3.92318858e-06]\n",
      "62回目のx: [-2.94239144e-06  3.92318858e-06] grad: [-5.88478288e-06  7.84637717e-06] x: [-2.35391315e-06  3.13855087e-06]\n",
      "63回目のx: [-2.35391315e-06  3.13855087e-06] grad: [-4.70782630e-06  6.27710174e-06] x: [-1.88313052e-06  2.51084069e-06]\n",
      "64回目のx: [-1.88313052e-06  2.51084069e-06] grad: [-3.76626104e-06  5.02168139e-06] x: [-1.50650442e-06  2.00867256e-06]\n",
      "65回目のx: [-1.50650442e-06  2.00867256e-06] grad: [-3.01300883e-06  4.01734511e-06] x: [-1.20520353e-06  1.60693804e-06]\n",
      "66回目のx: [-1.20520353e-06  1.60693804e-06] grad: [-2.41040707e-06  3.21387609e-06] x: [-9.64162827e-07  1.28555044e-06]\n",
      "67回目のx: [-9.64162827e-07  1.28555044e-06] grad: [-1.92832565e-06  2.57110087e-06] x: [-7.71330261e-07  1.02844035e-06]\n",
      "68回目のx: [-7.71330261e-07  1.02844035e-06] grad: [-1.54266052e-06  2.05688070e-06] x: [-6.17064209e-07  8.22752279e-07]\n",
      "69回目のx: [-6.17064209e-07  8.22752279e-07] grad: [-1.23412842e-06  1.64550456e-06] x: [-4.93651367e-07  6.58201823e-07]\n",
      "70回目のx: [-4.93651367e-07  6.58201823e-07] grad: [-9.87302734e-07  1.31640365e-06] x: [-3.94921094e-07  5.26561458e-07]\n",
      "71回目のx: [-3.94921094e-07  5.26561458e-07] grad: [-7.89842188e-07  1.05312292e-06] x: [-3.15936875e-07  4.21249167e-07]\n",
      "72回目のx: [-3.15936875e-07  4.21249167e-07] grad: [-6.31873750e-07  8.42498333e-07] x: [-2.52749500e-07  3.36999333e-07]\n",
      "73回目のx: [-2.52749500e-07  3.36999333e-07] grad: [-5.05499000e-07  6.73998667e-07] x: [-2.02199600e-07  2.69599467e-07]\n",
      "74回目のx: [-2.02199600e-07  2.69599467e-07] grad: [-4.04399200e-07  5.39198933e-07] x: [-1.61759680e-07  2.15679573e-07]\n",
      "75回目のx: [-1.61759680e-07  2.15679573e-07] grad: [-3.23519360e-07  4.31359147e-07] x: [-1.29407744e-07  1.72543659e-07]\n",
      "76回目のx: [-1.29407744e-07  1.72543659e-07] grad: [-2.58815488e-07  3.45087317e-07] x: [-1.03526195e-07  1.38034927e-07]\n",
      "77回目のx: [-1.03526195e-07  1.38034927e-07] grad: [-2.07052390e-07  2.76069854e-07] x: [-8.28209562e-08  1.10427942e-07]\n",
      "78回目のx: [-8.28209562e-08  1.10427942e-07] grad: [-1.65641912e-07  2.20855883e-07] x: [-6.62567649e-08  8.83423532e-08]\n",
      "79回目のx: [-6.62567649e-08  8.83423532e-08] grad: [-1.32513530e-07  1.76684706e-07] x: [-5.30054119e-08  7.06738826e-08]\n",
      "80回目のx: [-5.30054119e-08  7.06738826e-08] grad: [-1.06010824e-07  1.41347765e-07] x: [-4.24043296e-08  5.65391061e-08]\n",
      "81回目のx: [-4.24043296e-08  5.65391061e-08] grad: [-8.48086591e-08  1.13078212e-07] x: [-3.39234636e-08  4.52312849e-08]\n",
      "82回目のx: [-3.39234636e-08  4.52312849e-08] grad: [-6.78469273e-08  9.04625697e-08] x: [-2.71387709e-08  3.61850279e-08]\n",
      "83回目のx: [-2.71387709e-08  3.61850279e-08] grad: [-5.42775418e-08  7.23700558e-08] x: [-2.17110167e-08  2.89480223e-08]\n",
      "84回目のx: [-2.17110167e-08  2.89480223e-08] grad: [-4.34220335e-08  5.78960446e-08] x: [-1.73688134e-08  2.31584178e-08]\n",
      "85回目のx: [-1.73688134e-08  2.31584178e-08] grad: [-3.47376268e-08  4.63168357e-08] x: [-1.38950507e-08  1.85267343e-08]\n",
      "86回目のx: [-1.38950507e-08  1.85267343e-08] grad: [-2.77901014e-08  3.70534686e-08] x: [-1.11160406e-08  1.48213874e-08]\n",
      "87回目のx: [-1.11160406e-08  1.48213874e-08] grad: [-2.22320811e-08  2.96427748e-08] x: [-8.89283245e-09  1.18571099e-08]\n",
      "88回目のx: [-8.89283245e-09  1.18571099e-08] grad: [-1.77856649e-08  2.37142199e-08] x: [-7.11426596e-09  9.48568795e-09]\n",
      "89回目のx: [-7.11426596e-09  9.48568795e-09] grad: [-1.42285319e-08  1.89713759e-08] x: [-5.69141277e-09  7.58855036e-09]\n",
      "90回目のx: [-5.69141277e-09  7.58855036e-09] grad: [-1.13828255e-08  1.51771007e-08] x: [-4.55313022e-09  6.07084029e-09]\n",
      "91回目のx: [-4.55313022e-09  6.07084029e-09] grad: [-9.10626043e-09  1.21416806e-08] x: [-3.64250417e-09  4.85667223e-09]\n",
      "92回目のx: [-3.64250417e-09  4.85667223e-09] grad: [-7.28500835e-09  9.71334446e-09] x: [-2.91400334e-09  3.88533778e-09]\n",
      "93回目のx: [-2.91400334e-09  3.88533778e-09] grad: [-5.82800668e-09  7.77067557e-09] x: [-2.33120267e-09  3.10827023e-09]\n",
      "94回目のx: [-2.33120267e-09  3.10827023e-09] grad: [-4.66240534e-09  6.21654046e-09] x: [-1.86496214e-09  2.48661618e-09]\n",
      "95回目のx: [-1.86496214e-09  2.48661618e-09] grad: [-3.72992427e-09  4.97323236e-09] x: [-1.49196971e-09  1.98929295e-09]\n",
      "96回目のx: [-1.49196971e-09  1.98929295e-09] grad: [-2.98393942e-09  3.97858589e-09] x: [-1.19357577e-09  1.59143436e-09]\n",
      "97回目のx: [-1.19357577e-09  1.59143436e-09] grad: [-2.38715153e-09  3.18286871e-09] x: [-9.54860614e-10  1.27314749e-09]\n",
      "98回目のx: [-9.54860614e-10  1.27314749e-09] grad: [-1.90972123e-09  2.54629497e-09] x: [-7.63888491e-10  1.01851799e-09]\n",
      "99回目のx: [-7.63888491e-10  1.01851799e-09] grad: [-1.52777698e-09  2.03703598e-09] x: [-6.11110793e-10  8.14814391e-10]\n"
     ]
    },
    {
     "data": {
      "text/plain": [
       "array([-6.11110793e-10,  8.14814391e-10])"
      ]
     },
     "execution_count": 93,
     "metadata": {},
     "output_type": "execute_result"
    }
   ],
   "source": [
    "init_x = np.array([-3.0, 4.0])\n",
    "gradient_descent(function_2, init_x=init_x, lr=0.1, step_num=100)"
   ]
  },
  {
   "cell_type": "code",
   "execution_count": 94,
   "metadata": {},
   "outputs": [
    {
     "name": "stdout",
     "output_type": "stream",
     "text": [
      "0回目のx: [-3.  4.] grad: [-6.  8.] x: [ 57. -76.]\n",
      "1回目のx: [ 57. -76.] grad: [ 114.         -152.00000001] x: [-1083.00000003  1444.00000007]\n",
      "2回目のx: [-1083.00000003  1444.00000007] grad: [-2165.99999927  2888.00000213] x: [ 20576.99999267 -27436.00002124]\n",
      "3回目のx: [ 20576.99999267 -27436.00002124] grad: [ 41154.00075912 -54872.00021744] x: [-390963.00759858  521284.00215314]\n",
      "4回目のx: [-390963.00759858  521284.00215314] grad: [-781925.96435547 1042568.05419922] x: [ 7428296.63595611 -9904396.53983905]\n",
      "5回目のx: [ 7428296.63595611 -9904396.53983905] grad: [ 14856562.5 -19808750. ] x: [-1.41137328e+08  1.88183103e+08]\n",
      "6回目のx: [-1.41137328e+08  1.88183103e+08] grad: [-2.8224e+08  3.7632e+08] x: [ 2.68126267e+09 -3.57501690e+09]\n",
      "7回目のx: [ 2.68126267e+09 -3.57501690e+09] grad: [ 5.36576e+09 -7.14752e+09] x: [-5.09763373e+10  6.79001831e+10]\n",
      "8回目のx: [-5.09763373e+10  6.79001831e+10] grad: [-9.9614720e+10  1.3631488e+11] x: [ 9.45170863e+11 -1.29524862e+12]\n",
      "9回目のx: [ 9.45170863e+11 -1.29524862e+12] grad: [2.68435456e+12 0.00000000e+00] x: [-2.58983747e+13 -1.29524862e+12]\n",
      "10回目のx: [-2.58983747e+13 -1.29524862e+12] grad: [0. 0.] x: [-2.58983747e+13 -1.29524862e+12]\n",
      "11回目のx: [-2.58983747e+13 -1.29524862e+12] grad: [0. 0.] x: [-2.58983747e+13 -1.29524862e+12]\n",
      "12回目のx: [-2.58983747e+13 -1.29524862e+12] grad: [0. 0.] x: [-2.58983747e+13 -1.29524862e+12]\n",
      "13回目のx: [-2.58983747e+13 -1.29524862e+12] grad: [0. 0.] x: [-2.58983747e+13 -1.29524862e+12]\n",
      "14回目のx: [-2.58983747e+13 -1.29524862e+12] grad: [0. 0.] x: [-2.58983747e+13 -1.29524862e+12]\n",
      "15回目のx: [-2.58983747e+13 -1.29524862e+12] grad: [0. 0.] x: [-2.58983747e+13 -1.29524862e+12]\n",
      "16回目のx: [-2.58983747e+13 -1.29524862e+12] grad: [0. 0.] x: [-2.58983747e+13 -1.29524862e+12]\n",
      "17回目のx: [-2.58983747e+13 -1.29524862e+12] grad: [0. 0.] x: [-2.58983747e+13 -1.29524862e+12]\n",
      "18回目のx: [-2.58983747e+13 -1.29524862e+12] grad: [0. 0.] x: [-2.58983747e+13 -1.29524862e+12]\n",
      "19回目のx: [-2.58983747e+13 -1.29524862e+12] grad: [0. 0.] x: [-2.58983747e+13 -1.29524862e+12]\n",
      "20回目のx: [-2.58983747e+13 -1.29524862e+12] grad: [0. 0.] x: [-2.58983747e+13 -1.29524862e+12]\n",
      "21回目のx: [-2.58983747e+13 -1.29524862e+12] grad: [0. 0.] x: [-2.58983747e+13 -1.29524862e+12]\n",
      "22回目のx: [-2.58983747e+13 -1.29524862e+12] grad: [0. 0.] x: [-2.58983747e+13 -1.29524862e+12]\n",
      "23回目のx: [-2.58983747e+13 -1.29524862e+12] grad: [0. 0.] x: [-2.58983747e+13 -1.29524862e+12]\n",
      "24回目のx: [-2.58983747e+13 -1.29524862e+12] grad: [0. 0.] x: [-2.58983747e+13 -1.29524862e+12]\n",
      "25回目のx: [-2.58983747e+13 -1.29524862e+12] grad: [0. 0.] x: [-2.58983747e+13 -1.29524862e+12]\n",
      "26回目のx: [-2.58983747e+13 -1.29524862e+12] grad: [0. 0.] x: [-2.58983747e+13 -1.29524862e+12]\n",
      "27回目のx: [-2.58983747e+13 -1.29524862e+12] grad: [0. 0.] x: [-2.58983747e+13 -1.29524862e+12]\n",
      "28回目のx: [-2.58983747e+13 -1.29524862e+12] grad: [0. 0.] x: [-2.58983747e+13 -1.29524862e+12]\n",
      "29回目のx: [-2.58983747e+13 -1.29524862e+12] grad: [0. 0.] x: [-2.58983747e+13 -1.29524862e+12]\n",
      "30回目のx: [-2.58983747e+13 -1.29524862e+12] grad: [0. 0.] x: [-2.58983747e+13 -1.29524862e+12]\n",
      "31回目のx: [-2.58983747e+13 -1.29524862e+12] grad: [0. 0.] x: [-2.58983747e+13 -1.29524862e+12]\n",
      "32回目のx: [-2.58983747e+13 -1.29524862e+12] grad: [0. 0.] x: [-2.58983747e+13 -1.29524862e+12]\n",
      "33回目のx: [-2.58983747e+13 -1.29524862e+12] grad: [0. 0.] x: [-2.58983747e+13 -1.29524862e+12]\n",
      "34回目のx: [-2.58983747e+13 -1.29524862e+12] grad: [0. 0.] x: [-2.58983747e+13 -1.29524862e+12]\n",
      "35回目のx: [-2.58983747e+13 -1.29524862e+12] grad: [0. 0.] x: [-2.58983747e+13 -1.29524862e+12]\n",
      "36回目のx: [-2.58983747e+13 -1.29524862e+12] grad: [0. 0.] x: [-2.58983747e+13 -1.29524862e+12]\n",
      "37回目のx: [-2.58983747e+13 -1.29524862e+12] grad: [0. 0.] x: [-2.58983747e+13 -1.29524862e+12]\n",
      "38回目のx: [-2.58983747e+13 -1.29524862e+12] grad: [0. 0.] x: [-2.58983747e+13 -1.29524862e+12]\n",
      "39回目のx: [-2.58983747e+13 -1.29524862e+12] grad: [0. 0.] x: [-2.58983747e+13 -1.29524862e+12]\n",
      "40回目のx: [-2.58983747e+13 -1.29524862e+12] grad: [0. 0.] x: [-2.58983747e+13 -1.29524862e+12]\n",
      "41回目のx: [-2.58983747e+13 -1.29524862e+12] grad: [0. 0.] x: [-2.58983747e+13 -1.29524862e+12]\n",
      "42回目のx: [-2.58983747e+13 -1.29524862e+12] grad: [0. 0.] x: [-2.58983747e+13 -1.29524862e+12]\n",
      "43回目のx: [-2.58983747e+13 -1.29524862e+12] grad: [0. 0.] x: [-2.58983747e+13 -1.29524862e+12]\n",
      "44回目のx: [-2.58983747e+13 -1.29524862e+12] grad: [0. 0.] x: [-2.58983747e+13 -1.29524862e+12]\n",
      "45回目のx: [-2.58983747e+13 -1.29524862e+12] grad: [0. 0.] x: [-2.58983747e+13 -1.29524862e+12]\n",
      "46回目のx: [-2.58983747e+13 -1.29524862e+12] grad: [0. 0.] x: [-2.58983747e+13 -1.29524862e+12]\n",
      "47回目のx: [-2.58983747e+13 -1.29524862e+12] grad: [0. 0.] x: [-2.58983747e+13 -1.29524862e+12]\n",
      "48回目のx: [-2.58983747e+13 -1.29524862e+12] grad: [0. 0.] x: [-2.58983747e+13 -1.29524862e+12]\n",
      "49回目のx: [-2.58983747e+13 -1.29524862e+12] grad: [0. 0.] x: [-2.58983747e+13 -1.29524862e+12]\n",
      "50回目のx: [-2.58983747e+13 -1.29524862e+12] grad: [0. 0.] x: [-2.58983747e+13 -1.29524862e+12]\n",
      "51回目のx: [-2.58983747e+13 -1.29524862e+12] grad: [0. 0.] x: [-2.58983747e+13 -1.29524862e+12]\n",
      "52回目のx: [-2.58983747e+13 -1.29524862e+12] grad: [0. 0.] x: [-2.58983747e+13 -1.29524862e+12]\n",
      "53回目のx: [-2.58983747e+13 -1.29524862e+12] grad: [0. 0.] x: [-2.58983747e+13 -1.29524862e+12]\n",
      "54回目のx: [-2.58983747e+13 -1.29524862e+12] grad: [0. 0.] x: [-2.58983747e+13 -1.29524862e+12]\n",
      "55回目のx: [-2.58983747e+13 -1.29524862e+12] grad: [0. 0.] x: [-2.58983747e+13 -1.29524862e+12]\n",
      "56回目のx: [-2.58983747e+13 -1.29524862e+12] grad: [0. 0.] x: [-2.58983747e+13 -1.29524862e+12]\n",
      "57回目のx: [-2.58983747e+13 -1.29524862e+12] grad: [0. 0.] x: [-2.58983747e+13 -1.29524862e+12]\n",
      "58回目のx: [-2.58983747e+13 -1.29524862e+12] grad: [0. 0.] x: [-2.58983747e+13 -1.29524862e+12]\n",
      "59回目のx: [-2.58983747e+13 -1.29524862e+12] grad: [0. 0.] x: [-2.58983747e+13 -1.29524862e+12]\n",
      "60回目のx: [-2.58983747e+13 -1.29524862e+12] grad: [0. 0.] x: [-2.58983747e+13 -1.29524862e+12]\n",
      "61回目のx: [-2.58983747e+13 -1.29524862e+12] grad: [0. 0.] x: [-2.58983747e+13 -1.29524862e+12]\n",
      "62回目のx: [-2.58983747e+13 -1.29524862e+12] grad: [0. 0.] x: [-2.58983747e+13 -1.29524862e+12]\n",
      "63回目のx: [-2.58983747e+13 -1.29524862e+12] grad: [0. 0.] x: [-2.58983747e+13 -1.29524862e+12]\n",
      "64回目のx: [-2.58983747e+13 -1.29524862e+12] grad: [0. 0.] x: [-2.58983747e+13 -1.29524862e+12]\n",
      "65回目のx: [-2.58983747e+13 -1.29524862e+12] grad: [0. 0.] x: [-2.58983747e+13 -1.29524862e+12]\n",
      "66回目のx: [-2.58983747e+13 -1.29524862e+12] grad: [0. 0.] x: [-2.58983747e+13 -1.29524862e+12]\n",
      "67回目のx: [-2.58983747e+13 -1.29524862e+12] grad: [0. 0.] x: [-2.58983747e+13 -1.29524862e+12]\n",
      "68回目のx: [-2.58983747e+13 -1.29524862e+12] grad: [0. 0.] x: [-2.58983747e+13 -1.29524862e+12]\n",
      "69回目のx: [-2.58983747e+13 -1.29524862e+12] grad: [0. 0.] x: [-2.58983747e+13 -1.29524862e+12]\n",
      "70回目のx: [-2.58983747e+13 -1.29524862e+12] grad: [0. 0.] x: [-2.58983747e+13 -1.29524862e+12]\n",
      "71回目のx: [-2.58983747e+13 -1.29524862e+12] grad: [0. 0.] x: [-2.58983747e+13 -1.29524862e+12]\n",
      "72回目のx: [-2.58983747e+13 -1.29524862e+12] grad: [0. 0.] x: [-2.58983747e+13 -1.29524862e+12]\n",
      "73回目のx: [-2.58983747e+13 -1.29524862e+12] grad: [0. 0.] x: [-2.58983747e+13 -1.29524862e+12]\n",
      "74回目のx: [-2.58983747e+13 -1.29524862e+12] grad: [0. 0.] x: [-2.58983747e+13 -1.29524862e+12]\n",
      "75回目のx: [-2.58983747e+13 -1.29524862e+12] grad: [0. 0.] x: [-2.58983747e+13 -1.29524862e+12]\n",
      "76回目のx: [-2.58983747e+13 -1.29524862e+12] grad: [0. 0.] x: [-2.58983747e+13 -1.29524862e+12]\n",
      "77回目のx: [-2.58983747e+13 -1.29524862e+12] grad: [0. 0.] x: [-2.58983747e+13 -1.29524862e+12]\n",
      "78回目のx: [-2.58983747e+13 -1.29524862e+12] grad: [0. 0.] x: [-2.58983747e+13 -1.29524862e+12]\n",
      "79回目のx: [-2.58983747e+13 -1.29524862e+12] grad: [0. 0.] x: [-2.58983747e+13 -1.29524862e+12]\n",
      "80回目のx: [-2.58983747e+13 -1.29524862e+12] grad: [0. 0.] x: [-2.58983747e+13 -1.29524862e+12]\n",
      "81回目のx: [-2.58983747e+13 -1.29524862e+12] grad: [0. 0.] x: [-2.58983747e+13 -1.29524862e+12]\n",
      "82回目のx: [-2.58983747e+13 -1.29524862e+12] grad: [0. 0.] x: [-2.58983747e+13 -1.29524862e+12]\n",
      "83回目のx: [-2.58983747e+13 -1.29524862e+12] grad: [0. 0.] x: [-2.58983747e+13 -1.29524862e+12]\n",
      "84回目のx: [-2.58983747e+13 -1.29524862e+12] grad: [0. 0.] x: [-2.58983747e+13 -1.29524862e+12]\n",
      "85回目のx: [-2.58983747e+13 -1.29524862e+12] grad: [0. 0.] x: [-2.58983747e+13 -1.29524862e+12]\n",
      "86回目のx: [-2.58983747e+13 -1.29524862e+12] grad: [0. 0.] x: [-2.58983747e+13 -1.29524862e+12]\n",
      "87回目のx: [-2.58983747e+13 -1.29524862e+12] grad: [0. 0.] x: [-2.58983747e+13 -1.29524862e+12]\n",
      "88回目のx: [-2.58983747e+13 -1.29524862e+12] grad: [0. 0.] x: [-2.58983747e+13 -1.29524862e+12]\n",
      "89回目のx: [-2.58983747e+13 -1.29524862e+12] grad: [0. 0.] x: [-2.58983747e+13 -1.29524862e+12]\n",
      "90回目のx: [-2.58983747e+13 -1.29524862e+12] grad: [0. 0.] x: [-2.58983747e+13 -1.29524862e+12]\n",
      "91回目のx: [-2.58983747e+13 -1.29524862e+12] grad: [0. 0.] x: [-2.58983747e+13 -1.29524862e+12]\n",
      "92回目のx: [-2.58983747e+13 -1.29524862e+12] grad: [0. 0.] x: [-2.58983747e+13 -1.29524862e+12]\n",
      "93回目のx: [-2.58983747e+13 -1.29524862e+12] grad: [0. 0.] x: [-2.58983747e+13 -1.29524862e+12]\n",
      "94回目のx: [-2.58983747e+13 -1.29524862e+12] grad: [0. 0.] x: [-2.58983747e+13 -1.29524862e+12]\n",
      "95回目のx: [-2.58983747e+13 -1.29524862e+12] grad: [0. 0.] x: [-2.58983747e+13 -1.29524862e+12]\n",
      "96回目のx: [-2.58983747e+13 -1.29524862e+12] grad: [0. 0.] x: [-2.58983747e+13 -1.29524862e+12]\n",
      "97回目のx: [-2.58983747e+13 -1.29524862e+12] grad: [0. 0.] x: [-2.58983747e+13 -1.29524862e+12]\n",
      "98回目のx: [-2.58983747e+13 -1.29524862e+12] grad: [0. 0.] x: [-2.58983747e+13 -1.29524862e+12]\n",
      "99回目のx: [-2.58983747e+13 -1.29524862e+12] grad: [0. 0.] x: [-2.58983747e+13 -1.29524862e+12]\n"
     ]
    },
    {
     "data": {
      "text/plain": [
       "array([-2.58983747e+13, -1.29524862e+12])"
      ]
     },
     "execution_count": 94,
     "metadata": {},
     "output_type": "execute_result"
    }
   ],
   "source": [
    "init_x = np.array([-3.0, 4.0])\n",
    "gradient_descent(function_2, init_x=init_x, lr=10.0, step_num=100)"
   ]
  },
  {
   "cell_type": "code",
   "execution_count": 98,
   "metadata": {},
   "outputs": [
    {
     "name": "stdout",
     "output_type": "stream",
     "text": [
      "0回目のx: [-3.  4.] grad: [-6.  8.] x: [-2.99994  3.99992]\n",
      "1回目のx: [-2.99994  3.99992] grad: [-5.99988  7.99984] x: [-2.99988  3.99984]\n",
      "2回目のx: [-2.99988  3.99984] grad: [-5.99976  7.99968] x: [-2.99982  3.99976]\n",
      "3回目のx: [-2.99982  3.99976] grad: [-5.99964001  7.99952001] x: [-2.99976001  3.99968001]\n",
      "4回目のx: [-2.99976001  3.99968001] grad: [-5.99952001  7.99936002] x: [-2.99970001  3.99960002]\n",
      "5回目のx: [-2.99970001  3.99960002] grad: [-5.99940002  7.99920003] x: [-2.99964002  3.99952002]\n",
      "6回目のx: [-2.99964002  3.99952002] grad: [-5.99928004  7.99904005] x: [-2.99958003  3.99944003]\n",
      "7回目のx: [-2.99958003  3.99944003] grad: [-5.99916005  7.99888007] x: [-2.99952003  3.99936004]\n",
      "8回目のx: [-2.99952003  3.99936004] grad: [-5.99904007  7.99872009] x: [-2.99946004  3.99928006]\n",
      "9回目のx: [-2.99946004  3.99928006] grad: [-5.99892009  7.99856012] x: [-2.99940005  3.99920007]\n",
      "10回目のx: [-2.99940005  3.99920007] grad: [-5.99880011  7.99840014] x: [-2.99934007  3.99912009]\n",
      "11回目のx: [-2.99934007  3.99912009] grad: [-5.99868013  7.99824018] x: [-2.99928008  3.99904011]\n",
      "12回目のx: [-2.99928008  3.99904011] grad: [-5.99856016  7.99808021] x: [-2.99922009  3.99896012]\n",
      "13回目のx: [-2.99922009  3.99896012] grad: [-5.99844019  7.99792025] x: [-2.99916011  3.99888015]\n",
      "14回目のx: [-2.99916011  3.99888015] grad: [-5.99832022  7.99776029] x: [-2.99910013  3.99880017]\n",
      "15回目のx: [-2.99910013  3.99880017] grad: [-5.99820025  7.99760034] x: [-2.99904014  3.99872019]\n",
      "16回目のx: [-2.99904014  3.99872019] grad: [-5.99808029  7.99744038] x: [-2.99898016  3.99864022]\n",
      "17回目のx: [-2.99898016  3.99864022] grad: [-5.99796033  7.99728044] x: [-2.99892018  3.99856024]\n",
      "18回目のx: [-2.99892018  3.99856024] grad: [-5.99784037  7.99712049] x: [-2.99886021  3.99848027]\n",
      "19回目のx: [-2.99886021  3.99848027] grad: [-5.99772041  7.99696055] x: [-2.99880023  3.9984003 ]\n",
      "20回目のx: [-2.99880023  3.9984003 ] grad: [-5.99760046  7.99680061] x: [-2.99874025  3.99832034]\n",
      "21回目のx: [-2.99874025  3.99832034] grad: [-5.9974805   7.99664067] x: [-2.99868028  3.99824037]\n",
      "22回目のx: [-2.99868028  3.99824037] grad: [-5.99736055  7.99648074] x: [-2.9986203  3.9981604]\n",
      "23回目のx: [-2.9986203  3.9981604] grad: [-5.99724061  7.99632081] x: [-2.99856033  3.99808044]\n",
      "24回目のx: [-2.99856033  3.99808044] grad: [-5.99712066  7.99616088] x: [-2.99850036  3.99800048]\n",
      "25回目のx: [-2.99850036  3.99800048] grad: [-5.99700072  7.99600096] x: [-2.99844039  3.99792052]\n",
      "26回目のx: [-2.99844039  3.99792052] grad: [-5.99688078  7.99584104] x: [-2.99838042  3.99784056]\n",
      "27回目のx: [-2.99838042  3.99784056] grad: [-5.99676084  7.99568112] x: [-2.99832045  3.9977606 ]\n",
      "28回目のx: [-2.99832045  3.9977606 ] grad: [-5.99664091  7.99552121] x: [-2.99826049  3.99768065]\n",
      "29回目のx: [-2.99826049  3.99768065] grad: [-5.99652097  7.9953613 ] x: [-2.99820052  3.9976007 ]\n",
      "30回目のx: [-2.99820052  3.9976007 ] grad: [-5.99640104  7.99520139] x: [-2.99814056  3.99752074]\n",
      "31回目のx: [-2.99814056  3.99752074] grad: [-5.99628112  7.99504149] x: [-2.9980806   3.99744079]\n",
      "32回目のx: [-2.9980806   3.99744079] grad: [-5.99616119  7.99488159] x: [-2.99802063  3.99736084]\n",
      "33回目のx: [-2.99802063  3.99736084] grad: [-5.99604127  7.99472169] x: [-2.99796067  3.9972809 ]\n",
      "34回目のx: [-2.99796067  3.9972809 ] grad: [-5.99592135  7.99456179] x: [-2.99790071  3.99720095]\n",
      "35回目のx: [-2.99790071  3.99720095] grad: [-5.99580143  7.9944019 ] x: [-2.99784076  3.99712101]\n",
      "36回目のx: [-2.99784076  3.99712101] grad: [-5.99568151  7.99424202] x: [-2.9977808   3.99704107]\n",
      "37回目のx: [-2.9977808   3.99704107] grad: [-5.9955616   7.99408213] x: [-2.99772084  3.99696112]\n",
      "38回目のx: [-2.99772084  3.99696112] grad: [-5.99544169  7.99392225] x: [-2.99766089  3.99688119]\n",
      "39回目のx: [-2.99766089  3.99688119] grad: [-5.99532178  7.99376237] x: [-2.99760094  3.99680125]\n",
      "40回目のx: [-2.99760094  3.99680125] grad: [-5.99520187  7.9936025 ] x: [-2.99754098  3.99672131]\n",
      "41回目のx: [-2.99754098  3.99672131] grad: [-5.99508197  7.99344262] x: [-2.99748103  3.99664138]\n",
      "42回目のx: [-2.99748103  3.99664138] grad: [-5.99496207  7.99328275] x: [-2.99742108  3.99656144]\n",
      "43回目のx: [-2.99742108  3.99656144] grad: [-5.99484217  7.99312289] x: [-2.99736113  3.99648151]\n",
      "44回目のx: [-2.99736113  3.99648151] grad: [-5.99472227  7.99296303] x: [-2.99730119  3.99640158]\n",
      "45回目のx: [-2.99730119  3.99640158] grad: [-5.99460238  7.99280317] x: [-2.99724124  3.99632166]\n",
      "46回目のx: [-2.99724124  3.99632166] grad: [-5.99448248  7.99264331] x: [-2.9971813   3.99624173]\n",
      "47回目のx: [-2.9971813   3.99624173] grad: [-5.99436259  7.99248346] x: [-2.99712135  3.9961618 ]\n",
      "48回目のx: [-2.99712135  3.9961618 ] grad: [-5.99424271  7.99232361] x: [-2.99706141  3.99608188]\n",
      "49回目のx: [-2.99706141  3.99608188] grad: [-5.99412282  7.99216376] x: [-2.99700147  3.99600196]\n",
      "50回目のx: [-2.99700147  3.99600196] grad: [-5.99400294  7.99200392] x: [-2.99694153  3.99592204]\n",
      "51回目のx: [-2.99694153  3.99592204] grad: [-5.99388306  7.99184408] x: [-2.99688159  3.99584212]\n",
      "52回目のx: [-2.99688159  3.99584212] grad: [-5.99376318  7.99168424] x: [-2.99682165  3.9957622 ]\n",
      "53回目のx: [-2.99682165  3.9957622 ] grad: [-5.99364331  7.99152441] x: [-2.99676172  3.99568229]\n",
      "54回目のx: [-2.99676172  3.99568229] grad: [-5.99352343  7.99136458] x: [-2.99670178  3.99560238]\n",
      "55回目のx: [-2.99670178  3.99560238] grad: [-5.99340356  7.99120475] x: [-2.99664185  3.99552246]\n",
      "56回目のx: [-2.99664185  3.99552246] grad: [-5.99328369  7.99104493] x: [-2.99658191  3.99544255]\n",
      "57回目のx: [-2.99658191  3.99544255] grad: [-5.99316383  7.99088511] x: [-2.99652198  3.99536264]\n",
      "58回目のx: [-2.99652198  3.99536264] grad: [-5.99304397  7.99072529] x: [-2.99646205  3.99528274]\n",
      "59回目のx: [-2.99646205  3.99528274] grad: [-5.9929241   7.99056547] x: [-2.99640212  3.99520283]\n",
      "60回目のx: [-2.99640212  3.99520283] grad: [-5.99280425  7.99040566] x: [-2.9963422   3.99512293]\n",
      "61回目のx: [-2.9963422   3.99512293] grad: [-5.99268439  7.99024585] x: [-2.99628227  3.99504302]\n",
      "62回目のx: [-2.99628227  3.99504302] grad: [-5.99256454  7.99008605] x: [-2.99622234  3.99496312]\n",
      "63回目のx: [-2.99622234  3.99496312] grad: [-5.99244469  7.98992625] x: [-2.99616242  3.99488322]\n",
      "64回目のx: [-2.99616242  3.99488322] grad: [-5.99232484  7.98976645] x: [-2.99610249  3.99480333]\n",
      "65回目のx: [-2.99610249  3.99480333] grad: [-5.99220499  7.98960665] x: [-2.99604257  3.99472343]\n",
      "66回目のx: [-2.99604257  3.99472343] grad: [-5.99208515  7.98944686] x: [-2.99598265  3.99464354]\n",
      "67回目のx: [-2.99598265  3.99464354] grad: [-5.9919653   7.98928707] x: [-2.99592273  3.99456364]\n",
      "68回目のx: [-2.99592273  3.99456364] grad: [-5.99184546  7.98912729] x: [-2.99586281  3.99448375]\n",
      "69回目のx: [-2.99586281  3.99448375] grad: [-5.99172563  7.9889675 ] x: [-2.9958029   3.99440386]\n",
      "70回目のx: [-2.9958029   3.99440386] grad: [-5.99160579  7.98880772] x: [-2.99574298  3.99432397]\n",
      "71回目のx: [-2.99574298  3.99432397] grad: [-5.99148596  7.98864795] x: [-2.99568307  3.99424409]\n",
      "72回目のx: [-2.99568307  3.99424409] grad: [-5.99136613  7.98848818] x: [-2.99562315  3.9941642 ]\n",
      "73回目のx: [-2.99562315  3.9941642 ] grad: [-5.9912463   7.98832841] x: [-2.99556324  3.99408432]\n",
      "74回目のx: [-2.99556324  3.99408432] grad: [-5.99112648  7.98816864] x: [-2.99550333  3.99400444]\n",
      "75回目のx: [-2.99550333  3.99400444] grad: [-5.99100666  7.98800888] x: [-2.99544342  3.99392456]\n",
      "76回目のx: [-2.99544342  3.99392456] grad: [-5.99088684  7.98784912] x: [-2.99538351  3.99384468]\n",
      "77回目のx: [-2.99538351  3.99384468] grad: [-5.99076702  7.98768936] x: [-2.9953236  3.9937648]\n",
      "78回目のx: [-2.9953236  3.9937648] grad: [-5.9906472  7.9875296] x: [-2.9952637   3.99368493]\n",
      "79回目のx: [-2.9952637   3.99368493] grad: [-5.99052739  7.98736985] x: [-2.99520379  3.99360505]\n",
      "80回目のx: [-2.99520379  3.99360505] grad: [-5.99040758  7.98721011] x: [-2.99514389  3.99352518]\n",
      "81回目のx: [-2.99514389  3.99352518] grad: [-5.99028777  7.98705036] x: [-2.99508398  3.99344531]\n",
      "82回目のx: [-2.99508398  3.99344531] grad: [-5.99016797  7.98689062] x: [-2.99502408  3.99336544]\n",
      "83回目のx: [-2.99502408  3.99336544] grad: [-5.99004816  7.98673088] x: [-2.99496418  3.99328557]\n",
      "84回目のx: [-2.99496418  3.99328557] grad: [-5.98992836  7.98657115] x: [-2.99490428  3.99320571]\n",
      "85回目のx: [-2.99490428  3.99320571] grad: [-5.98980856  7.98641142] x: [-2.99484438  3.99312584]\n",
      "86回目のx: [-2.99484438  3.99312584] grad: [-5.98968877  7.98625169] x: [-2.99478449  3.99304598]\n",
      "87回目のx: [-2.99478449  3.99304598] grad: [-5.98956897  7.98609196] x: [-2.99472459  3.99296612]\n",
      "88回目のx: [-2.99472459  3.99296612] grad: [-5.98944918  7.98593224] x: [-2.9946647   3.99288626]\n",
      "89回目のx: [-2.9946647   3.99288626] grad: [-5.98932939  7.98577252] x: [-2.9946048  3.9928064]\n",
      "90回目のx: [-2.9946048  3.9928064] grad: [-5.98920961  7.98561281] x: [-2.99454491  3.99272655]\n",
      "91回目のx: [-2.99454491  3.99272655] grad: [-5.98908982  7.9854531 ] x: [-2.99448502  3.99264669]\n",
      "92回目のx: [-2.99448502  3.99264669] grad: [-5.98897004  7.98529339] x: [-2.99442513  3.99256684]\n",
      "93回目のx: [-2.99442513  3.99256684] grad: [-5.98885026  7.98513368] x: [-2.99436524  3.99248699]\n",
      "94回目のx: [-2.99436524  3.99248699] grad: [-5.98873048  7.98497398] x: [-2.99430535  3.99240714]\n",
      "95回目のx: [-2.99430535  3.99240714] grad: [-5.98861071  7.98481428] x: [-2.99424547  3.99232729]\n",
      "96回目のx: [-2.99424547  3.99232729] grad: [-5.98849094  7.98465458] x: [-2.99418558  3.99224744]\n",
      "97回目のx: [-2.99418558  3.99224744] grad: [-5.98837117  7.98449489] x: [-2.9941257  3.9921676]\n",
      "98回目のx: [-2.9941257  3.9921676] grad: [-5.9882514  7.9843352] x: [-2.99406582  3.99208776]\n",
      "99回目のx: [-2.99406582  3.99208776] grad: [-5.98813163  7.98417551] x: [-2.99400594  3.99200791]\n"
     ]
    },
    {
     "data": {
      "text/plain": [
       "array([-2.99400594,  3.99200791])"
      ]
     },
     "execution_count": 98,
     "metadata": {},
     "output_type": "execute_result"
    }
   ],
   "source": [
    "init_x = np.array([-3.0, 4.0])\n",
    "gradient_descent(function_2, init_x=init_x, lr=0.00001, step_num=100)"
   ]
  },
  {
   "cell_type": "markdown",
   "metadata": {},
   "source": [
    "### 4.4.2 ニューラルネットワークに対する勾配"
   ]
  },
  {
   "cell_type": "code",
   "execution_count": 107,
   "metadata": {},
   "outputs": [],
   "source": [
    "import sys, os\n",
    "sys.path.append(os.pardir)\n",
    "import numpy as np\n",
    "from common.functions import softmax, cross_entropy_error\n",
    "from common.gradient import numerical_gradient\n",
    "\n",
    "class simpleNet:\n",
    "  def __init__(self):\n",
    "    self.W = np.random.randn(2, 3)\n",
    "\n",
    "  def predict(self, x):\n",
    "    return np.dot(x, self.W)\n",
    "\n",
    "  def loss(self, x, t):\n",
    "    z = self.predict(x)\n",
    "    y = softmax(z)\n",
    "    loss = cross_entropy_error(y, t)\n",
    "\n",
    "    return loss"
   ]
  },
  {
   "cell_type": "code",
   "execution_count": 122,
   "metadata": {},
   "outputs": [
    {
     "name": "stdout",
     "output_type": "stream",
     "text": [
      "net.W: [[ 1.29986591  1.76809731 -0.59453359]\n",
      " [-0.05992263  0.54509933 -0.98411853]]\n",
      "\n",
      "p: [ 0.72598919  1.55144779 -1.24242683]\n",
      "np.argmax(p): 1\n",
      "\n",
      "net.loss(x, t): 3.1988156411479745\n",
      "\n",
      "[[ 0.17530462  0.40020773 -0.57551234]\n",
      " [ 0.26295693  0.60031159 -0.86326852]]\n",
      "[[ 0.17530462  0.40020773 -0.57551234]\n",
      " [ 0.26295693  0.60031159 -0.86326852]]\n"
     ]
    }
   ],
   "source": [
    "net = simpleNet()\n",
    "print(f\"net.W: {net.W}\\n\")\n",
    "\n",
    "x = np.array([0.6, 0.9])\n",
    "p = net.predict(x)\n",
    "print(f\"p: {p}\")\n",
    "print(f\"np.argmax(p): {np.argmax(p)}\\n\")\n",
    "\n",
    "t = np.array([0, 0, 1])\n",
    "print(f\"net.loss(x, t): {net.loss(x, t)}\\n\")\n",
    "\n",
    "def f(W):\n",
    "  return net.loss(x, t)\n",
    "\n",
    "dW = numerical_gradient(f, net.W)\n",
    "print(dW)\n",
    "\n",
    "f = lambda w: net.loss(x, t)\n",
    "dW = numerical_gradient(f, net.W)\n",
    "print(dW)"
   ]
  },
  {
   "cell_type": "markdown",
   "metadata": {},
   "source": [
    "# 4.5 学習アルゴリズムの実装"
   ]
  },
  {
   "cell_type": "code",
   "execution_count": 130,
   "metadata": {},
   "outputs": [],
   "source": [
    "import sys, os\n",
    "sys.path.append(os.pardir)\n",
    "from common.functions import *\n",
    "from common.gradient import numerical_gradient\n",
    "\n",
    "class TwoLayerNet:\n",
    "\n",
    "  def __init__(self, input_size, hidden_size, output_size, weight_init_std=0.01):\n",
    "    self.params = {}\n",
    "    self.params['W1'] = weight_init_std * np.random.randn(input_size, hidden_size)\n",
    "    self.params['b1'] = np.zeros(hidden_size)\n",
    "    self.params['W2'] = weight_init_std * np.random.randn(hidden_size, output_size)\n",
    "    self.params['b2'] = np.zeros(output_size)\n",
    "\n",
    "  def predict(self, x):\n",
    "    W1, W2 = self.params['W1'], self.params['W2']\n",
    "    b1, b2 = self.params['b1'], self.params['b2']\n",
    "\n",
    "    a1 = np.dot(x, W1) + b1\n",
    "    z1 = sigmoid(a1)\n",
    "    a2 = np.dot(z1, W2) + b2\n",
    "    y = softmax(a2)\n",
    "\n",
    "    return y\n",
    "\n",
    "  def loss(self, x, t):\n",
    "    y = self.predict(x)\n",
    "\n",
    "    return cross_entropy_error(y, t)\n",
    "\n",
    "  def accuracy(self, x, t):\n",
    "    y = self.predict(x)\n",
    "    y = np.argmax(y, axis=1)\n",
    "    t = np.argmax(t, axis=1)\n",
    "\n",
    "    accuracy = np.sum(y == t) / float(x.shape[0])\n",
    "    return accuracy\n",
    "\n",
    "  def numerical_gradient(self, x, t):\n",
    "    loss_W = lambda W: self.loss(x, t)\n",
    "\n",
    "    grads = {}\n",
    "    grads['W1'] = numerical_gradient(loss_W, self.params['W1'])\n",
    "    grads['b1'] = numerical_gradient(loss_W, self.params['b1'])\n",
    "    grads['W2'] = numerical_gradient(loss_W, self.params['W2'])\n",
    "    grads['b2'] = numerical_gradient(loss_W, self.params['b2'])\n",
    "\n",
    "    return grads"
   ]
  },
  {
   "cell_type": "code",
   "execution_count": 131,
   "metadata": {},
   "outputs": [
    {
     "data": {
      "text/plain": [
       "(10,)"
      ]
     },
     "execution_count": 131,
     "metadata": {},
     "output_type": "execute_result"
    }
   ],
   "source": [
    "net = TwoLayerNet(input_size=784, hidden_size=100, output_size=10)\n",
    "net.params['W1'].shape # (784, 100)\n",
    "net.params['b1'].shape # (100,)\n",
    "net.params['W2'].shape # (100, 10)\n",
    "net.params['b2'].shape # (10,)"
   ]
  },
  {
   "cell_type": "code",
   "execution_count": 134,
   "metadata": {},
   "outputs": [],
   "source": [
    "x = np.random.rand(100, 784) # ダミーの入力データ(100枚分)\n",
    "y = net.predict(x)"
   ]
  },
  {
   "cell_type": "code",
   "execution_count": 135,
   "metadata": {},
   "outputs": [],
   "source": [
    "x = np.random.rand(100, 784) # ダミーの入力データ(100枚分)\n",
    "t = np.random.rand(100, 10) # ダミーの正解ラベル(100枚分)"
   ]
  },
  {
   "cell_type": "code",
   "execution_count": 136,
   "metadata": {},
   "outputs": [],
   "source": [
    "grads = net.numerical_gradient(x, t)"
   ]
  },
  {
   "cell_type": "code",
   "execution_count": 137,
   "metadata": {},
   "outputs": [
    {
     "data": {
      "text/plain": [
       "{'W1': array([[-1.60367009e-04, -1.23726571e-04, -1.51260453e-04, ...,\n",
       "         -9.26680377e-05, -1.31603306e-05, -1.50050665e-04],\n",
       "        [ 1.86050531e-05,  8.31526847e-06, -5.53569124e-05, ...,\n",
       "         -7.56299312e-05,  9.28013755e-05, -1.37140359e-04],\n",
       "        [-1.03556437e-04, -1.02243587e-04, -8.57930527e-05, ...,\n",
       "         -7.30462690e-05,  6.96719504e-05, -1.87149092e-04],\n",
       "        ...,\n",
       "        [ 5.85886073e-05, -5.56589796e-05, -1.11627254e-04, ...,\n",
       "         -1.51384061e-04,  1.53166062e-04, -2.02206658e-04],\n",
       "        [-1.39226326e-04, -7.63376407e-05, -1.35646521e-04, ...,\n",
       "         -2.84893331e-05,  1.08205631e-04, -2.17443561e-04],\n",
       "        [-4.93124785e-05,  8.21098367e-05, -1.15755503e-04, ...,\n",
       "         -2.82597123e-05,  1.24900139e-04, -1.70974834e-04]]),\n",
       " 'b1': array([-8.21971402e-05, -4.26147939e-05, -1.10077714e-04, -4.28696358e-04,\n",
       "        -5.69371417e-05, -3.45828739e-04,  5.11665132e-05, -3.83347765e-04,\n",
       "        -1.93772414e-04, -8.27074120e-05,  3.29472856e-04, -1.78323845e-05,\n",
       "         1.40776646e-04, -1.16760874e-04,  3.45996964e-05, -3.21350158e-04,\n",
       "         1.70588375e-04, -1.37686991e-04,  5.67612095e-04,  5.66997560e-07,\n",
       "         1.06970675e-04,  2.00615535e-04, -1.42323615e-04,  4.29364784e-04,\n",
       "        -3.38268435e-05, -1.09752873e-04,  5.09291675e-05,  1.03185012e-04,\n",
       "         1.75646853e-05, -1.51834390e-04, -1.72613679e-05,  4.30796772e-04,\n",
       "        -5.22467314e-05,  2.32155510e-04, -3.48498768e-04,  2.59915525e-04,\n",
       "         2.51721444e-04, -7.67691755e-05,  1.53685513e-04, -2.50689869e-05,\n",
       "        -5.15168241e-05, -1.65530174e-04,  1.73899917e-05, -1.86955731e-04,\n",
       "         3.77381122e-04, -2.29896018e-04,  2.49511749e-04,  1.65769800e-04,\n",
       "         3.61258898e-04, -2.15265921e-04,  4.15704871e-05,  3.47295375e-04,\n",
       "         2.82987394e-04,  2.59677493e-04, -1.27590332e-04, -2.10435358e-04,\n",
       "         2.75490444e-04,  1.41605143e-04, -5.53058599e-05,  1.63586882e-04,\n",
       "         6.59334631e-05, -8.28948798e-05, -7.81549403e-05, -5.21529642e-05,\n",
       "        -1.10913945e-05,  4.00079050e-04, -1.50422876e-04,  3.75151106e-04,\n",
       "        -1.66272800e-04,  1.01460023e-04,  1.59987039e-04, -2.60404991e-04,\n",
       "         1.29492523e-04, -9.49686374e-05,  2.61986526e-04,  2.55933730e-04,\n",
       "        -2.53973163e-04,  1.12984893e-04,  4.06771992e-04, -8.62274963e-05,\n",
       "        -3.26225955e-04,  3.26842975e-05, -6.61642807e-05, -1.30560966e-04,\n",
       "         2.69968956e-04,  3.08649559e-04,  1.68701384e-04, -1.69174308e-04,\n",
       "         3.16516426e-04, -4.26147124e-04, -2.23970964e-04,  3.70075881e-05,\n",
       "        -5.79407877e-05, -5.90503202e-07,  1.66243146e-04, -2.27119676e-04,\n",
       "        -2.36220314e-04, -1.33855074e-04,  1.12145411e-04, -3.20300302e-04]),\n",
       " 'W2': array([[ 0.01450588, -0.04144742, -0.02397576,  0.00829917,  0.01273071,\n",
       "         -0.00156876,  0.00909426,  0.01665694, -0.00380041,  0.0095054 ],\n",
       "        [ 0.01170532, -0.03372118, -0.01925972,  0.00617231,  0.00990866,\n",
       "         -0.00133774,  0.00735627,  0.01378352, -0.00247324,  0.00786579],\n",
       "        [ 0.01146254, -0.03528717, -0.02082403,  0.00641375,  0.01050434,\n",
       "         -0.00138016,  0.0078054 ,  0.01499021, -0.00165113,  0.00796625],\n",
       "        [ 0.01217619, -0.03686843, -0.01980424,  0.00616234,  0.01107965,\n",
       "         -0.00170462,  0.00803377,  0.01592809, -0.00218924,  0.0071865 ],\n",
       "        [ 0.01290816, -0.03685545, -0.02068789,  0.00676682,  0.01050523,\n",
       "         -0.00156366,  0.00835101,  0.01495351, -0.00224405,  0.00786633],\n",
       "        [ 0.01319377, -0.03541904, -0.01999344,  0.00679219,  0.01052727,\n",
       "         -0.00167415,  0.00723332,  0.01446831, -0.0033187 ,  0.00819047],\n",
       "        [ 0.01260488, -0.0371949 , -0.02216381,  0.00773282,  0.01079211,\n",
       "         -0.00239675,  0.00791003,  0.01567994, -0.00177747,  0.00881315],\n",
       "        [ 0.01385893, -0.03806163, -0.02246946,  0.00711173,  0.01195201,\n",
       "         -0.00227954,  0.00821908,  0.01633734, -0.00370074,  0.00903228],\n",
       "        [ 0.01358465, -0.03856363, -0.02218118,  0.00742099,  0.01161751,\n",
       "         -0.00168579,  0.00824493,  0.01634249, -0.00290579,  0.00812582],\n",
       "        [ 0.01483514, -0.04269718, -0.02510418,  0.0096686 ,  0.01206593,\n",
       "         -0.00145271,  0.00923334,  0.01726641, -0.00305735,  0.00924198],\n",
       "        [ 0.01284587, -0.03336684, -0.01994619,  0.00764728,  0.0089934 ,\n",
       "         -0.00244804,  0.00723549,  0.01432165, -0.00326386,  0.00798125],\n",
       "        [ 0.01394433, -0.03970844, -0.02234189,  0.00695426,  0.01177792,\n",
       "         -0.00229603,  0.00805343,  0.01676583, -0.00252569,  0.00937629],\n",
       "        [ 0.01292182, -0.03566893, -0.02198822,  0.00761202,  0.01047613,\n",
       "         -0.00151405,  0.00734535,  0.01516385, -0.00229815,  0.0079502 ],\n",
       "        [ 0.01585189, -0.04361232, -0.02703779,  0.00874057,  0.01282865,\n",
       "         -0.00155394,  0.00896448,  0.01900313, -0.00363351,  0.01044884],\n",
       "        [ 0.01205147, -0.03359871, -0.0198595 ,  0.00671047,  0.01022595,\n",
       "         -0.00128211,  0.00672479,  0.01393926, -0.00281315,  0.00790154],\n",
       "        [ 0.01327029, -0.03827456, -0.0227658 ,  0.00750933,  0.01127425,\n",
       "         -0.0011379 ,  0.00828674,  0.01571109, -0.00248009,  0.00860665],\n",
       "        [ 0.01369633, -0.03472493, -0.02115389,  0.00741979,  0.01026885,\n",
       "         -0.00179912,  0.00774531,  0.01358684, -0.00337101,  0.00833184],\n",
       "        [ 0.01261131, -0.03429429, -0.02077399,  0.00748839,  0.01005946,\n",
       "         -0.00208052,  0.00706588,  0.014399  , -0.00200375,  0.00752851],\n",
       "        [ 0.01062101, -0.03132085, -0.01833997,  0.00699232,  0.00956418,\n",
       "         -0.00120576,  0.00656035,  0.01441813, -0.00356216,  0.00627276],\n",
       "        [ 0.01074193, -0.0299603 , -0.01895277,  0.00670539,  0.00853427,\n",
       "         -0.00151803,  0.00679555,  0.01347033, -0.00236984,  0.00655346],\n",
       "        [ 0.01206502, -0.03559595, -0.02116933,  0.00640057,  0.00985704,\n",
       "         -0.00118153,  0.00809294,  0.01521725, -0.00231282,  0.00862681],\n",
       "        [ 0.01267634, -0.03922802, -0.02311478,  0.00780576,  0.01132021,\n",
       "         -0.00081367,  0.00856306,  0.01625342, -0.00291625,  0.00945394],\n",
       "        [ 0.0115858 , -0.03195657, -0.01989675,  0.00643946,  0.00949632,\n",
       "         -0.00121809,  0.00667689,  0.0148731 , -0.00335238,  0.00735221],\n",
       "        [ 0.01249614, -0.03565468, -0.02213922,  0.00731682,  0.01072348,\n",
       "         -0.00202358,  0.00729792,  0.01611655, -0.00218222,  0.00804877],\n",
       "        [ 0.01438717, -0.04089227, -0.02278365,  0.00833525,  0.01094908,\n",
       "         -0.00199254,  0.00923831,  0.01725967, -0.00384053,  0.00933951],\n",
       "        [ 0.01036563, -0.03386502, -0.01925429,  0.00669341,  0.01026048,\n",
       "         -0.00179267,  0.00755697,  0.01410441, -0.0023124 ,  0.00824348],\n",
       "        [ 0.01192079, -0.03239384, -0.019245  ,  0.00614246,  0.00952237,\n",
       "         -0.00199931,  0.0070174 ,  0.01436891, -0.00231287,  0.00697909],\n",
       "        [ 0.01241656, -0.03304592, -0.02174152,  0.00705112,  0.0105031 ,\n",
       "         -0.00188417,  0.00759117,  0.01391138, -0.00259452,  0.00779278],\n",
       "        [ 0.01379311, -0.0381854 , -0.02240979,  0.00755053,  0.01210752,\n",
       "         -0.00239394,  0.00830158,  0.01611773, -0.00280495,  0.0079236 ],\n",
       "        [ 0.01332068, -0.037727  , -0.02250211,  0.00791419,  0.0111272 ,\n",
       "         -0.00119055,  0.00832661,  0.01704011, -0.00351101,  0.00720189],\n",
       "        [ 0.01416674, -0.03939322, -0.02323312,  0.00884906,  0.01142352,\n",
       "         -0.00197877,  0.00912969,  0.01563914, -0.00307029,  0.00846724],\n",
       "        [ 0.01376821, -0.03703842, -0.02313184,  0.0078153 ,  0.01137917,\n",
       "         -0.00143014,  0.00749854,  0.01554927, -0.00240039,  0.0079903 ],\n",
       "        [ 0.01183393, -0.03151107, -0.01880579,  0.00600768,  0.00948469,\n",
       "         -0.00096192,  0.00633339,  0.01391291, -0.00369525,  0.00740142],\n",
       "        [ 0.01172924, -0.03322921, -0.01955048,  0.00758157,  0.01064639,\n",
       "         -0.00179117,  0.00791449,  0.01327557, -0.00318497,  0.00660856],\n",
       "        [ 0.01195004, -0.03462338, -0.02048558,  0.00817102,  0.00940994,\n",
       "         -0.00149502,  0.00742998,  0.01479831, -0.00286632,  0.00771099],\n",
       "        [ 0.01371209, -0.03653896, -0.02309821,  0.00768006,  0.01074598,\n",
       "         -0.00241541,  0.00857983,  0.01693863, -0.00353177,  0.00792776],\n",
       "        [ 0.01426631, -0.04079123, -0.02329899,  0.00919179,  0.01270594,\n",
       "         -0.00211632,  0.00792569,  0.01754157, -0.00390418,  0.00847942],\n",
       "        [ 0.01419924, -0.03742374, -0.02167978,  0.0081432 ,  0.01131111,\n",
       "         -0.00201355,  0.00820008,  0.01532197, -0.00395547,  0.00789692],\n",
       "        [ 0.01303727, -0.03605233, -0.02288281,  0.00805387,  0.01090993,\n",
       "         -0.00199059,  0.00815064,  0.01629332, -0.00283026,  0.00731096],\n",
       "        [ 0.01144363, -0.03476416, -0.02001647,  0.00682995,  0.01063241,\n",
       "         -0.00142989,  0.00645809,  0.01452068, -0.00229603,  0.0086218 ],\n",
       "        [ 0.01249613, -0.0354413 , -0.02191297,  0.00837159,  0.01093481,\n",
       "         -0.0017646 ,  0.00734838,  0.01510915, -0.00283958,  0.00769838],\n",
       "        [ 0.01302839, -0.03673051, -0.02195007,  0.00755355,  0.01117903,\n",
       "         -0.00137994,  0.00840402,  0.014958  , -0.00193306,  0.00687059],\n",
       "        [ 0.01410304, -0.0380778 , -0.02209992,  0.00792664,  0.01136226,\n",
       "         -0.0032218 ,  0.00818832,  0.01659729, -0.0033441 ,  0.00856607],\n",
       "        [ 0.01192887, -0.03320268, -0.01961506,  0.00746786,  0.00997776,\n",
       "         -0.00145028,  0.00724454,  0.01397657, -0.00334154,  0.00701395],\n",
       "        [ 0.01071793, -0.03283908, -0.02061313,  0.00692032,  0.01010459,\n",
       "         -0.00154455,  0.00820818,  0.01354522, -0.00218692,  0.00768743],\n",
       "        [ 0.01263378, -0.0375735 , -0.02144282,  0.00780775,  0.01085763,\n",
       "         -0.00214061,  0.00766663,  0.01669923, -0.00279851,  0.00829043],\n",
       "        [ 0.01148072, -0.03320367, -0.02023079,  0.00668622,  0.01017477,\n",
       "         -0.00249743,  0.0082132 ,  0.01465608, -0.00243572,  0.00715662],\n",
       "        [ 0.01182856, -0.03456699, -0.02134776,  0.00745051,  0.01062463,\n",
       "         -0.00258541,  0.00771617,  0.01489482, -0.00241425,  0.00839972],\n",
       "        [ 0.01312093, -0.03557799, -0.02111452,  0.00666509,  0.00998481,\n",
       "         -0.00158665,  0.00843074,  0.01521111, -0.00283894,  0.00770541],\n",
       "        [ 0.01273076, -0.03349981, -0.02145753,  0.00699769,  0.01050978,\n",
       "         -0.00232553,  0.00796964,  0.01519912, -0.00306127,  0.00693717],\n",
       "        [ 0.01307383, -0.03790665, -0.02185466,  0.00720384,  0.01030697,\n",
       "         -0.00101039,  0.00798752,  0.01571776, -0.0017281 ,  0.00820987],\n",
       "        [ 0.0114249 , -0.03237132, -0.02102487,  0.00602225,  0.01035689,\n",
       "         -0.00065448,  0.00669338,  0.01372992, -0.0025228 ,  0.00834614],\n",
       "        [ 0.01293242, -0.03704289, -0.02158524,  0.00794109,  0.01093688,\n",
       "         -0.00295059,  0.00816241,  0.0157698 , -0.00251239,  0.0083485 ],\n",
       "        [ 0.01195794, -0.03492682, -0.02090554,  0.0082008 ,  0.00972326,\n",
       "         -0.00187264,  0.00773702,  0.01495462, -0.00272367,  0.00785503],\n",
       "        [ 0.01244821, -0.03651655, -0.02376071,  0.00793011,  0.01072773,\n",
       "         -0.00224715,  0.00885655,  0.01610463, -0.00225824,  0.00871543],\n",
       "        [ 0.01272334, -0.03515117, -0.02060939,  0.00629068,  0.01050616,\n",
       "         -0.0018593 ,  0.00711852,  0.0157538 , -0.00385723,  0.0090846 ],\n",
       "        [ 0.01139739, -0.03362665, -0.01994371,  0.00844337,  0.00920046,\n",
       "         -0.00233095,  0.00817935,  0.01391175, -0.0030261 ,  0.00779509],\n",
       "        [ 0.01052388, -0.02909139, -0.01907294,  0.00549476,  0.00898209,\n",
       "         -0.00149961,  0.0068969 ,  0.01354805, -0.00249539,  0.00671366],\n",
       "        [ 0.01262997, -0.03726431, -0.02209247,  0.0067749 ,  0.01129455,\n",
       "         -0.00098855,  0.00948611,  0.01496083, -0.00267238,  0.00787136],\n",
       "        [ 0.01304817, -0.03864351, -0.02301987,  0.00828477,  0.01102497,\n",
       "         -0.00198576,  0.00815944,  0.01664422, -0.00240348,  0.00889104],\n",
       "        [ 0.01382596, -0.03588513, -0.02236044,  0.00740545,  0.01161956,\n",
       "         -0.00124202,  0.00765919,  0.01482924, -0.00339973,  0.00754792],\n",
       "        [ 0.01052623, -0.0313445 , -0.01833658,  0.00552025,  0.0094997 ,\n",
       "         -0.00079136,  0.00701001,  0.01332665, -0.0027232 ,  0.0073128 ],\n",
       "        [ 0.01305957, -0.03657951, -0.02206744,  0.0074657 ,  0.01071172,\n",
       "         -0.00144391,  0.00808697,  0.01569385, -0.00340974,  0.00848279],\n",
       "        [ 0.01450717, -0.03899429, -0.02267401,  0.00783985,  0.01120931,\n",
       "         -0.00273519,  0.00890989,  0.0166819 , -0.00319652,  0.0084519 ],\n",
       "        [ 0.01448701, -0.04011074, -0.02312609,  0.00832039,  0.01197729,\n",
       "         -0.00242376,  0.00778935,  0.01699543, -0.00395043,  0.01004156],\n",
       "        [ 0.01353719, -0.04131955, -0.02280596,  0.00799822,  0.0117039 ,\n",
       "         -0.00185242,  0.00910016,  0.01807296, -0.00260435,  0.00816984],\n",
       "        [ 0.0142255 , -0.03977925, -0.02327896,  0.00757376,  0.01125885,\n",
       "         -0.00101425,  0.00884333,  0.01677468, -0.00289536,  0.0082917 ],\n",
       "        [ 0.01224794, -0.0358654 , -0.0231147 ,  0.00763656,  0.01095405,\n",
       "         -0.00170465,  0.00816295,  0.01537561, -0.00182071,  0.00812834],\n",
       "        [ 0.01273773, -0.03138963, -0.01976996,  0.00697047,  0.0087995 ,\n",
       "         -0.00124749,  0.00725453,  0.0127776 , -0.00148451,  0.00535175],\n",
       "        [ 0.01226139, -0.03445147, -0.02176612,  0.00677968,  0.01015621,\n",
       "         -0.00136786,  0.00847315,  0.01451466, -0.00261822,  0.00801857],\n",
       "        [ 0.0125219 , -0.03575182, -0.02202778,  0.00781673,  0.01032412,\n",
       "         -0.00157558,  0.00711464,  0.01516203, -0.00173311,  0.00814888],\n",
       "        [ 0.01421199, -0.03836045, -0.02315461,  0.00841622,  0.01123889,\n",
       "         -0.00329299,  0.00915874,  0.01643837, -0.00358033,  0.00892416],\n",
       "        [ 0.01196962, -0.03431308, -0.02103754,  0.00701201,  0.00980438,\n",
       "         -0.00243497,  0.00763855,  0.01538293, -0.0020215 ,  0.00799959],\n",
       "        [ 0.01342525, -0.04057845, -0.0231603 ,  0.00704841,  0.01206317,\n",
       "         -0.00143627,  0.00897727,  0.01721317, -0.0029733 ,  0.00942105],\n",
       "        [ 0.01336868, -0.03778982, -0.02210495,  0.00828568,  0.01153225,\n",
       "         -0.00199382,  0.00809389,  0.01553199, -0.00339101,  0.00846711],\n",
       "        [ 0.01278263, -0.03558818, -0.02096568,  0.00654443,  0.0101595 ,\n",
       "         -0.00128191,  0.00752701,  0.01495415, -0.002412  ,  0.00828004],\n",
       "        [ 0.01166406, -0.03290148, -0.02059754,  0.00635328,  0.00952172,\n",
       "         -0.00082709,  0.00587181,  0.01450156, -0.00167984,  0.00809353],\n",
       "        [ 0.01469297, -0.04248023, -0.02400601,  0.00861667,  0.01211093,\n",
       "         -0.00156306,  0.00902229,  0.01805443, -0.00355656,  0.00910857],\n",
       "        [ 0.01249246, -0.03429743, -0.02050671,  0.00757298,  0.00999972,\n",
       "         -0.0017886 ,  0.00780282,  0.01435109, -0.00263657,  0.00701024],\n",
       "        [ 0.01250575, -0.03255437, -0.01966785,  0.00641381,  0.01053076,\n",
       "         -0.00298163,  0.00626077,  0.01381244, -0.00300369,  0.00868401],\n",
       "        [ 0.01099363, -0.03241569, -0.01994436,  0.00664773,  0.00924787,\n",
       "         -0.00085062,  0.00619985,  0.01408511, -0.00149107,  0.00752754],\n",
       "        [ 0.01444952, -0.03959479, -0.02473783,  0.00797783,  0.01218358,\n",
       "         -0.00166397,  0.00776136,  0.01814844, -0.00346397,  0.00893984],\n",
       "        [ 0.0121637 , -0.03537295, -0.01976558,  0.00669449,  0.01018029,\n",
       "         -0.00150191,  0.00774856,  0.01594198, -0.00368694,  0.00759837],\n",
       "        [ 0.01238742, -0.03609862, -0.02222068,  0.00590011,  0.01104313,\n",
       "         -0.00121032,  0.00855121,  0.01506088, -0.00168389,  0.00827075],\n",
       "        [ 0.01361804, -0.03608314, -0.02086426,  0.00778491,  0.01047378,\n",
       "         -0.00192289,  0.00787506,  0.01490926, -0.00236826,  0.0065775 ],\n",
       "        [ 0.01270541, -0.03539111, -0.02095756,  0.00669053,  0.01052722,\n",
       "         -0.00130563,  0.00721559,  0.01459934, -0.00251578,  0.008432  ],\n",
       "        [ 0.01358035, -0.03755296, -0.02170542,  0.00779826,  0.01164378,\n",
       "         -0.00210018,  0.00811592,  0.01603263, -0.00339374,  0.00758136],\n",
       "        [ 0.01340858, -0.03564401, -0.0217972 ,  0.0073283 ,  0.01075336,\n",
       "         -0.00263327,  0.0086037 ,  0.01542145, -0.00272384,  0.00728294],\n",
       "        [ 0.01359674, -0.0389362 , -0.022806  ,  0.0078527 ,  0.01085422,\n",
       "         -0.00161798,  0.00946178,  0.01649345, -0.00336383,  0.00846512],\n",
       "        [ 0.0121292 , -0.03934019, -0.02126277,  0.00695043,  0.01134178,\n",
       "         -0.00193015,  0.00909   ,  0.01635168, -0.00205505,  0.00872507],\n",
       "        [ 0.01344664, -0.03872184, -0.02258893,  0.00682101,  0.01148951,\n",
       "         -0.0011594 ,  0.00857685,  0.01713819, -0.00279791,  0.00779587],\n",
       "        [ 0.01409159, -0.04064756, -0.02273578,  0.00772485,  0.01156099,\n",
       "         -0.00203954,  0.00896878,  0.01732992, -0.00279965,  0.00854641],\n",
       "        [ 0.01228398, -0.03304629, -0.01959475,  0.00714192,  0.00915258,\n",
       "         -0.00194228,  0.00726324,  0.01381743, -0.0027449 ,  0.00766907],\n",
       "        [ 0.01294024, -0.03673081, -0.0209799 ,  0.00778689,  0.01100885,\n",
       "         -0.00286877,  0.00798918,  0.01536982, -0.00303866,  0.00852316],\n",
       "        [ 0.0130663 , -0.0387064 , -0.02061612,  0.00755974,  0.01087085,\n",
       "         -0.00208321,  0.00866232,  0.01638715, -0.00371606,  0.00857543],\n",
       "        [ 0.0134609 , -0.03800628, -0.02168166,  0.00819936,  0.01066039,\n",
       "         -0.00174772,  0.00842598,  0.01541391, -0.00304157,  0.00831669],\n",
       "        [ 0.01263053, -0.03692463, -0.02243698,  0.00779008,  0.01120396,\n",
       "         -0.00183735,  0.00818873,  0.01660254, -0.00291764,  0.00770076],\n",
       "        [ 0.01121196, -0.03189569, -0.01929859,  0.00578405,  0.0094328 ,\n",
       "         -0.00117559,  0.00740793,  0.01416069, -0.00207186,  0.00644432],\n",
       "        [ 0.01289497, -0.03921634, -0.02357758,  0.00862235,  0.01104779,\n",
       "         -0.00096348,  0.00849195,  0.01730131, -0.00276965,  0.00816866],\n",
       "        [ 0.0117694 , -0.03328977, -0.01999543,  0.00620979,  0.00968625,\n",
       "         -0.00124871,  0.00676462,  0.01478373, -0.00179066,  0.00711077]]),\n",
       " 'b2': array([ 0.02541103, -0.07196503, -0.04253075,  0.01450203,  0.02103003,\n",
       "        -0.00334751,  0.01575734,  0.03074181, -0.00558733,  0.01598839])}"
      ]
     },
     "execution_count": 137,
     "metadata": {},
     "output_type": "execute_result"
    }
   ],
   "source": [
    "grads"
   ]
  },
  {
   "cell_type": "markdown",
   "metadata": {},
   "source": [
    "# 4.5.2 ミニバッチ学習の実装"
   ]
  },
  {
   "cell_type": "code",
   "execution_count": 143,
   "metadata": {},
   "outputs": [
    {
     "data": {
      "image/png": "[encoded data removed]",
      "text/plain": [
       "<Figure size 640x480 with 1 Axes>"
      ]
     },
     "metadata": {},
     "output_type": "display_data"
    }
   ],
   "source": [
    "import numpy as np\n",
    "from dataset.mnist import load_mnist\n",
    "from two_layer_net import TwoLayerNet\n",
    "\n",
    "(x_train, t_train), (x_test, t_test) = load_mnist(normalize=True, one_hot_label=True)\n",
    "\n",
    "train_loss_list = []\n",
    "\n",
    "# ハイパーパラメータ\n",
    "iters_num = 10000\n",
    "train_size = x_train.shape[0]\n",
    "batch_size = 100\n",
    "learning_rate = 0.1\n",
    "\n",
    "network = TwoLayerNet(input_size=784, hidden_size=50, output_size=10)\n",
    "\n",
    "for i in range(iters_num):\n",
    "  # ミニバッチの取得\n",
    "  batch_mask = np.random.choice(train_size, batch_size)\n",
    "  x_batch = x_train[batch_mask]\n",
    "  t_batch = t_train[batch_mask]\n",
    "\n",
    "  # 勾配の計算\n",
    "  # grad = network.numerical_gradient(x_batch, t_batch)\n",
    "  grad = network.gradient(x_batch, t_batch)\n",
    "\n",
    "  # パラメータの更新\n",
    "  for key in ('W1', 'b1', 'W2', 'b2'):\n",
    "    network.params[key] -= learning_rate * grad[key]\n",
    "\n",
    "  # 学習経過の記録\n",
    "  loss = network.loss(x_batch, t_batch)\n",
    "  train_loss_list.append(loss)\n",
    "\n",
    "# グラフの描画\n",
    "x = np.arange(len(train_loss_list))\n",
    "plt.plot(x, train_loss_list, label='train loss')\n",
    "plt.xlabel(\"iterations\")\n",
    "plt.ylabel(\"loss\")\n",
    "plt.xlim(0, 10000)\n",
    "plt.legend(loc='lower right')\n",
    "plt.show()"
   ]
  },
  {
   "cell_type": "markdown",
   "metadata": {},
   "source": [
    "エポック"
   ]
  },
  {
   "cell_type": "code",
   "execution_count": 144,
   "metadata": {},
   "outputs": [
    {
     "name": "stdout",
     "output_type": "stream",
     "text": [
      "train acc, test acc | 0.10441666666666667, 0.1028\n",
      "train acc, test acc | 0.7923166666666667, 0.7933\n",
      "train acc, test acc | 0.8800833333333333, 0.8846\n",
      "train acc, test acc | 0.9002333333333333, 0.904\n",
      "train acc, test acc | 0.9079, 0.9099\n",
      "train acc, test acc | 0.9142166666666667, 0.9166\n",
      "train acc, test acc | 0.9196666666666666, 0.9209\n",
      "train acc, test acc | 0.9231333333333334, 0.9241\n",
      "train acc, test acc | 0.9266166666666666, 0.9284\n",
      "train acc, test acc | 0.9302166666666667, 0.9325\n",
      "train acc, test acc | 0.934, 0.9358\n",
      "train acc, test acc | 0.9365, 0.9374\n",
      "train acc, test acc | 0.9396666666666667, 0.9391\n",
      "train acc, test acc | 0.9418333333333333, 0.9418\n",
      "train acc, test acc | 0.9441166666666667, 0.9436\n",
      "train acc, test acc | 0.94595, 0.9442\n",
      "train acc, test acc | 0.9471666666666667, 0.9463\n"
     ]
    },
    {
     "data": {
      "image/png": "[encoded data removed]",
      "text/plain": [
       "<Figure size 640x480 with 1 Axes>"
      ]
     },
     "metadata": {},
     "output_type": "display_data"
    }
   ],
   "source": [
    "import numpy as np\n",
    "from dataset.mnist import load_mnist\n",
    "from two_layer_net import TwoLayerNet\n",
    "\n",
    "(x_train, t_train), (x_test, t_test) = load_mnist(normalize=True, one_hot_label=True)\n",
    "train_size = x_train.shape[0]\n",
    "\n",
    "# ハイパーパラメータ\n",
    "iters_num = 10000\n",
    "batch_size = 100\n",
    "learning_rate = 0.1\n",
    "\n",
    "train_loss_list = []\n",
    "train_acc_list = []\n",
    "test_acc_list = []\n",
    "\n",
    "# 1エポックあたりの繰り返し数\n",
    "iter_per_epoch = max(train_size / batch_size, 1)\n",
    "\n",
    "network = TwoLayerNet(input_size=784, hidden_size=50, output_size=10)\n",
    "\n",
    "for i in range(iters_num):\n",
    "  # ミニバッチの取得\n",
    "  batch_mask = np.random.choice(train_size, batch_size)\n",
    "  x_batch = x_train[batch_mask]\n",
    "  t_batch = t_train[batch_mask]\n",
    "\n",
    "  # 勾配の計算\n",
    "  # grad = network.numerical_gradient(x_batch, t_batch)\n",
    "  grad = network.gradient(x_batch, t_batch)\n",
    "\n",
    "  # パラメータの更新\n",
    "  for key in ('W1', 'b1', 'W2', 'b2'):\n",
    "    network.params[key] -= learning_rate * grad[key]\n",
    "\n",
    "  # 学習経過の記録\n",
    "  loss = network.loss(x_batch, t_batch)\n",
    "  train_loss_list.append(loss)\n",
    "\n",
    "  # 1エポックごとに認識精度を計算\n",
    "  if i%iter_per_epoch == 0:\n",
    "    train_acc = network.accuracy(x_train, t_train)\n",
    "    test_acc = network.accuracy(x_test, t_test)\n",
    "    train_acc_list.append(train_acc)\n",
    "    test_acc_list.append(test_acc)\n",
    "    print(f\"train acc, test acc | {train_acc}, {test_acc}\")\n",
    "\n",
    "# グラフの描画\n",
    "x = np.arange(len(train_loss_list))\n",
    "plt.plot(x, train_loss_list, label='train loss')\n",
    "plt.xlabel(\"iterations\")\n",
    "plt.ylabel(\"loss\")\n",
    "plt.xlim(0, 10000)\n",
    "plt.legend(loc='lower right')\n",
    "plt.show()"
   ]
  }
 ],
 "metadata": {
  "kernelspec": {
   "display_name": "Python 3",
   "language": "python",
   "name": "python3"
  },
  "language_info": {
   "codemirror_mode": {
    "name": "ipython",
    "version": 3
   },
   "file_extension": ".py",
   "mimetype": "text/x-python",
   "name": "python",
   "nbconvert_exporter": "python",
   "pygments_lexer": "ipython3",
   "version": "3.11.8"
  }
 },
 "nbformat": 4,
 "nbformat_minor": 2
}
